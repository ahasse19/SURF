{
 "cells": [
  {
   "cell_type": "code",
   "execution_count": 3,
   "metadata": {
    "collapsed": true
   },
   "outputs": [],
   "source": [
    "# Ariel Hasse, David Hitlin, SURF; This programs has four plots for each alpha energy level used in the experiment. \n",
    "\n",
    "%matplotlib inline\n",
    "import numpy as np\n",
    "import matplotlib.pyplot as plt\n",
    "from scipy.optimize import minimize \n",
    "from scipy import stats\n",
    "from scipy.optimize import curve_fit\n",
    "import math\n"
   ]
  },
  {
   "cell_type": "code",
   "execution_count": 4,
   "metadata": {
    "collapsed": false
   },
   "outputs": [],
   "source": [
    "#Each PMT's final data values\n",
    "\n",
    "q_filter = [2.9762807168446512, 2.8493222446691253, 2.7046015279015254, 2.459904200468519]\n",
    "q_2UV = [3.269623267619078, 3.1364744649952887, 2.9771822748456365, 2.702319438114875]\n",
    "q_SB = [5.155991131280197, 4.789453699584773, 4.475792970019146, 4.166273337999092]\n",
    "\n",
    "77\n",
    "\n",
    "ratio_x = list(range(0, 5, 1))\n",
    "energy = [4.8, 5.5, 6, 7.7]"
   ]
  },
  {
   "cell_type": "code",
   "execution_count": 5,
   "metadata": {
    "collapsed": true
   },
   "outputs": [],
   "source": [
    "def fast_slow_7700():\n",
    "    '''This function outputs the (fast, slow) best fit value for each energy level and graphs each PMTs quenching\n",
    "    factor for 7700 keV Radium peak'''\n",
    "    fast_filter = []\n",
    "    fast_2UV = []\n",
    "    fast_SB = []\n",
    "    \n",
    "    for i in ratio_x:\n",
    "        fast_filter.append((1/(ratio_filter[0])) * (q_filter[3] - (ratio_filter[1]) * i))\n",
    "        fast_2UV.append((1/(ratio_2UV[0])) * (q_2UV[3] - (ratio_2UV[1]) * i))\n",
    "        fast_SB.append((1/(ratio_SB[0])) * (q_SB[3] - (ratio_SB[1]) * i))\n",
    "    \n",
    "    plt.plot(ratio_x, fast_filter, label = 'UV with Filter')\n",
    "    plt.plot(ratio_x, fast_2UV, label = 'UV')\n",
    "    plt.plot(ratio_x, fast_SB, label = 'Solarblind')\n",
    "    plt.title('7700 keV Fast versus Slow Component Ratio')\n",
    "    plt.xlabel('Slow Component')\n",
    "    plt.ylabel('Fast Component')\n",
    "    plt.legend()\n",
    "    plt.show()\n",
    "   "
   ]
  },
  {
   "cell_type": "code",
   "execution_count": 6,
   "metadata": {
    "collapsed": true
   },
   "outputs": [],
   "source": [
    "def least_squares_7700(point):\n",
    "    '''This function finds the least squared value for the hypothetical intersection of three lines.'''\n",
    "    F = np.power(point[0] - x1, 2) + np.power(point[1]- Fy1 ,2) -\\\n",
    "        ((1/(np.power(x1 - x2, 2) + np.power(Fy1 - Fy2, 2))) * (np.power((point[0] - x1) * (x2 - x1), 2)\\\n",
    "                                                                + np.power((point[1] - Fy1) * (Fy2 - Fy1), 2)))\n",
    "        \n",
    "    UV = np.power(point[0] - x1, 2) + np.power(point[1]- UVy1 ,2) -\\\n",
    "        ((1/(np.power(x1 - x2, 2) + np.power(UVy1 - UVy2, 2))) * (np.power((point[0] - x1) * (x2 - x1), 2)\\\n",
    "                                                                  + np.power((point[1] - UVy1) * (UVy2 - UVy1), 2)))\n",
    "        \n",
    "    SB = np.power(point[0] - x1, 2) + np.power(point[1]- SBy1 ,2) -\\\n",
    "        ((1/(np.power(x1 - x2, 2) + np.power(SBy1 - SBy2, 2))) * (np.power((point[0] - x1) * (x2 - x1), 2)\\\n",
    "                                                                  + np.power((point[1] - SBy1) * (SBy2 - SBy1), 2)))\n",
    "        \n",
    "    \n",
    "    return sum(F + UV + SB)"
   ]
  },
  {
   "cell_type": "code",
   "execution_count": 7,
   "metadata": {
    "collapsed": true
   },
   "outputs": [],
   "source": [
    "def fast_slow_6000():\n",
    "    '''This function outputs the (fast, slow) best fit value for each energy level and graphs each PMTs quenching\n",
    "    factor for 6000 keV Radium peak'''\n",
    "    fast_filter = []\n",
    "    fast_2UV = []\n",
    "    fast_SB = []\n",
    "    \n",
    "    for i in ratio_x:\n",
    "        fast_filter.append((1/(ratio_filter[0])) * (q_filter[2] - (ratio_filter[1]) * i))\n",
    "        fast_2UV.append((1/(ratio_2UV[0])) * (q_2UV[2] - (ratio_2UV[1]) * i))\n",
    "        fast_SB.append((1/(ratio_SB[0])) * (q_SB[2] - (ratio_SB[1]) * i))\n",
    "    \n",
    "    plt.plot(ratio_x, fast_filter, label = 'UV with Filter')\n",
    "    plt.plot(ratio_x, fast_2UV, label = 'UV')\n",
    "    plt.plot(ratio_x, fast_SB, label = 'Solarblind')\n",
    "    plt.title('6000 keV Fast versus Slow Component Ratio')\n",
    "    plt.xlabel('Slow Component')\n",
    "    plt.ylabel('Fast Component')\n",
    "    plt.legend()\n",
    "    plt.show()\n",
    "    "
   ]
  },
  {
   "cell_type": "code",
   "execution_count": 8,
   "metadata": {
    "collapsed": true
   },
   "outputs": [],
   "source": [
    "def least_squares_6000(point):\n",
    "    '''This function finds the least squared value for the hypothetical intersection of three lines.'''\n",
    "    F = np.power(point[0] - x1, 2) + np.power(point[1]- Fy1 ,2) -\\\n",
    "        ((1/(np.power(x1 - x2, 2) + np.power(Fy1 - Fy2, 2))) * (np.power((point[0] - x1) * (x2 - x1), 2)\\\n",
    "                                                                + np.power((point[1] - Fy1) * (Fy2 - Fy1), 2)))\n",
    "        \n",
    "    UV = np.power(point[0] - x1, 2) + np.power(point[1]- UVy1 ,2) -\\\n",
    "        ((1/(np.power(x1 - x2, 2) + np.power(UVy1 - UVy2, 2))) * (np.power((point[0] - x1) * (x2 - x1), 2)\\\n",
    "                                                                  + np.power((point[1] - UVy1) * (UVy2 - UVy1), 2)))\n",
    "        \n",
    "    SB = np.power(point[0] - x1, 2) + np.power(point[1]- SBy1 ,2) -\\\n",
    "        ((1/(np.power(x1 - x2, 2) + np.power(SBy1 - SBy2, 2))) * (np.power((point[0] - x1) * (x2 - x1), 2)\\\n",
    "                                                                  + np.power((point[1] - SBy1) * (SBy2 - SBy1), 2)))\n",
    "        \n",
    "    \n",
    "    return sum(F + UV + SB)"
   ]
  },
  {
   "cell_type": "code",
   "execution_count": 9,
   "metadata": {
    "collapsed": true
   },
   "outputs": [],
   "source": [
    "def fast_slow_5500():\n",
    "    '''This function outputs the (fast, slow) best fit value for each energy level and graphs each PMTs quenching\n",
    "    factor for 5500 keV Radium peak'''\n",
    "    fast_filter = []\n",
    "    fast_2UV = []\n",
    "    fast_SB = []\n",
    "    \n",
    "    for i in ratio_x:\n",
    "        fast_filter.append((1/(ratio_filter[0])) * (q_filter[1] - (ratio_filter[1]) * i))\n",
    "        fast_2UV.append((1/(ratio_2UV[0])) * (q_2UV[1] - (ratio_2UV[1]) * i))\n",
    "        fast_SB.append((1/(ratio_SB[0])) * (q_SB[1] - (ratio_SB[1]) * i))\n",
    "    \n",
    "    plt.plot(ratio_x, fast_filter, label = 'UV with Filter')\n",
    "    plt.plot(ratio_x, fast_2UV, label = 'UV')\n",
    "    plt.plot(ratio_x, fast_SB, label = 'Solarblind')\n",
    "    plt.title('5500 keV Fast versus Slow Component Ratio')\n",
    "    plt.xlabel('Slow Component')\n",
    "    plt.ylabel('Fast Component')\n",
    "    plt.legend()\n",
    "    plt.show()\n",
    "    "
   ]
  },
  {
   "cell_type": "code",
   "execution_count": 10,
   "metadata": {
    "collapsed": true
   },
   "outputs": [],
   "source": [
    "def least_squares_5500(point):\n",
    "    '''This function finds the least squared value for the hypothetical intersection of three lines.'''\n",
    "    F = np.power(point[0] - x1, 2) + np.power(point[1]- Fy1 ,2) -\\\n",
    "        ((1/(np.power(x1 - x2, 2) + np.power(Fy1 - Fy2, 2))) * (np.power((point[0] - x1) * (x2 - x1), 2)\\\n",
    "                                                                + np.power((point[1] - Fy1) * (Fy2 - Fy1), 2)))\n",
    "        \n",
    "    UV = np.power(point[0] - x1, 2) + np.power(point[1]- UVy1 ,2) -\\\n",
    "        ((1/(np.power(x1 - x2, 2) + np.power(UVy1 - UVy2, 2))) * (np.power((point[0] - x1) * (x2 - x1), 2)\\\n",
    "                                                                  + np.power((point[1] - UVy1) * (UVy2 - UVy1), 2)))\n",
    "        \n",
    "    SB = np.power(point[0] - x1, 2) + np.power(point[1]- SBy1 ,2) -\\\n",
    "        ((1/(np.power(x1 - x2, 2) + np.power(SBy1 - SBy2, 2))) * (np.power((point[0] - x1) * (x2 - x1), 2)\\\n",
    "                                                                  + np.power((point[1] - SBy1) * (SBy2 - SBy1), 2)))\n",
    "        \n",
    "    \n",
    "    return sum(F + UV + SB)"
   ]
  },
  {
   "cell_type": "code",
   "execution_count": 11,
   "metadata": {
    "collapsed": true
   },
   "outputs": [],
   "source": [
    "def fast_slow_4800():\n",
    "    '''This function outputs the (fast, slow) best fit value for each energy level and graphs each PMTs quenching\n",
    "    factor for 4800 keV Radium peak'''\n",
    "    fast_filter = []\n",
    "    fast_2UV = []\n",
    "    fast_SB = []\n",
    "    \n",
    "    for i in ratio_x:\n",
    "        fast_filter.append((1/(ratio_filter[0])) * (q_filter[0] - (ratio_filter[1]) * i))\n",
    "        fast_2UV.append((1/(ratio_2UV[0])) * (q_2UV[0] - (ratio_2UV[1]) * i))\n",
    "        fast_SB.append((1/(ratio_SB[0])) * (q_SB[0] - (ratio_SB[1]) * i))\n",
    "    \n",
    "    plt.plot(ratio_x, fast_filter, label = 'UV with Filter')\n",
    "    plt.plot(ratio_x, fast_2UV, label = 'UV')\n",
    "    plt.plot(ratio_x, fast_SB, label = 'Solarblind')\n",
    "    plt.title('4800 keV Fast versus Slow Component Ratio')\n",
    "    plt.xlabel('Slow Component')\n",
    "    plt.ylabel('Fast Component')\n",
    "    plt.legend()\n",
    "    plt.show()\n",
    "    \n"
   ]
  },
  {
   "cell_type": "code",
   "execution_count": 12,
   "metadata": {
    "collapsed": true
   },
   "outputs": [],
   "source": [
    "def least_squares_4800(point):\n",
    "    '''This function finds the least squared value for the hypothetical intersection of three lines.'''\n",
    "    F = np.power(point[0] - x1, 2) + np.power(point[1]- Fy1 ,2) -\\\n",
    "        ((1/(np.power(x1 - x2, 2) + np.power(Fy1 - Fy2, 2))) * (np.power((point[0] - x1) * (x2 - x1), 2)\\\n",
    "                                                                + np.power((point[1] - Fy1) * (Fy2 - Fy1), 2)))\n",
    "        \n",
    "    UV = np.power(point[0] - x1, 2) + np.power(point[1]- UVy1 ,2) -\\\n",
    "        ((1/(np.power(x1 - x2, 2) + np.power(UVy1 - UVy2, 2))) * (np.power((point[0] - x1) * (x2 - x1), 2)\\\n",
    "                                                                  + np.power((point[1] - UVy1) * (UVy2 - UVy1), 2)))\n",
    "        \n",
    "    SB = np.power(point[0] - x1, 2) + np.power(point[1]- SBy1 ,2) -\\\n",
    "        ((1/(np.power(x1 - x2, 2) + np.power(SBy1 - SBy2, 2))) * (np.power((point[0] - x1) * (x2 - x1), 2)\\\n",
    "                                                                  + np.power((point[1] - SBy1) * (SBy2 - SBy1), 2)))\n",
    "        \n",
    "    \n",
    "    return sum(F + UV + SB)"
   ]
  },
  {
   "cell_type": "code",
   "execution_count": 13,
   "metadata": {
    "collapsed": true
   },
   "outputs": [],
   "source": [
    "def y_values(a, b, x):\n",
    "    '''This function takes the parameters for a linear function and returns a list of corresponding y values\n",
    "    to the x list which is given as an argument.'''\n",
    "    y = []\n",
    "    for i in x:\n",
    "        y.append(a*i + b)\n",
    "    return y"
   ]
  },
  {
   "cell_type": "code",
   "execution_count": 14,
   "metadata": {
    "collapsed": true
   },
   "outputs": [],
   "source": [
    "def optimize(f, point):\n",
    "    '''Takes a function and potential parameters and outputs the minimized \n",
    "    values for the guess'''\n",
    "    fit = minimize(f, point, method= 'Nelder-Mead')\n",
    "    return fit"
   ]
  },
  {
   "cell_type": "code",
   "execution_count": 15,
   "metadata": {
    "collapsed": true
   },
   "outputs": [],
   "source": [
    "guessregress = [11, 50]\n",
    "    \n",
    "def line(x, i, j):\n",
    "    ''' A linear function'''\n",
    "    return i*x + j  "
   ]
  },
  {
   "cell_type": "code",
   "execution_count": 16,
   "metadata": {
    "collapsed": false
   },
   "outputs": [],
   "source": [
    "def QF_Matrix(slow, fast, error_s, error_f, energy):\n",
    "    '''This function outputs a graph and the linear regression for the quenching factor. It takes five lists;\n",
    "    the slow and fast quenching factors, their respective errors, and energy in MeV. These lists should come \n",
    "    from the matrix anlaytical solution to the point of closest intersection.'''\n",
    "    \n",
    "    yfit_slow = []\n",
    "    yfit_fast = []\n",
    "    x = list(range(0, 200, 1))\n",
    "    xfit = [i / 10.0 for i in x]\n",
    "    \n",
    "    linfit_slow = curve_fit(line, energy, slow, guessregress, sigma = error_s)\n",
    "    linfit_fast = curve_fit(line, energy, fast, guessregress, sigma = error_f)\n",
    "    \n",
    "    for i in xfit:\n",
    "        yfit_slow.append(i*linfit_slow[0][0] + linfit_slow[0][1])\n",
    "        yfit_fast.append(i*linfit_fast[0][0] + linfit_fast[0][1])\n",
    "        \n",
    "    plt.errorbar(energy, slow, yerr= error_s, linestyle = 'None', marker = 'o', label = 'Slow QF Points')\n",
    "    plt.errorbar(energy, fast, yerr= error_f, linestyle = 'None', marker = 'o', label = 'Fast QF Points')\n",
    "    plt.plot(xfit, yfit_slow, label = 'Line of Best Fit Slow QF')\n",
    "    plt.plot(xfit, yfit_fast, label = 'Line of Best Fit Fast QF')\n",
    "    \n",
    "    plt.ylim(-.5, 15)\n",
    "    plt.title('Quenching Factor for the \\n Fast and Slow Components of BaF2')\n",
    "    plt.xlabel('Energy (MeV)')\n",
    "    plt.ylabel('Quenching Factor')\n",
    "    plt.legend(loc = 1)\n",
    "    #for i, txt in enumerate(names):\n",
    "        #plt.annotate(txt, (x[i],y[i]), ha = 'right')\n",
    "        #plt.show()\n",
    "    #for i, txt in enumerate(first):\n",
    "        #plt.annotate(txt, (x[i], y[i]), ha = 'left')\n",
    "        #plt.show()\n",
    "    plt.show()    \n",
    "    \n",
    "    print 'Curve_fit Linear Regression Slow Component:',linfit_slow\n",
    "    print 'Curve_fit Linear Regression Fast Component:',linfit_fast\n",
    "   \n",
    "        "
   ]
  },
  {
   "cell_type": "code",
   "execution_count": 17,
   "metadata": {
    "collapsed": false
   },
   "outputs": [],
   "source": [
    "def QF_Vector(slow, fast, energy):\n",
    "    '''This function outputs a graph and the linear regression for the quenching factor. It takes three lists;\n",
    "    the slow and fast quenching factors and energy in MeV. These lists should come from the vector anlaytical\n",
    "    solution to the point of closest intersection.'''\n",
    "    \n",
    "    yfit_slow = []\n",
    "    yfit_fast = []\n",
    "    x = list(range(0, 200, 1))\n",
    "    xfit = [i / 10.0 for i in x]\n",
    "    \n",
    "    linfit_slow = curve_fit(line, energy, slow, guessregress)\n",
    "    linfit_fast = curve_fit(line, energy, fast, guessregress)\n",
    "    \n",
    "    for i in xfit:\n",
    "        yfit_slow.append(i*linfit_slow[0][0] + linfit_slow[0][1])\n",
    "        yfit_fast.append(i*linfit_fast[0][0] + linfit_fast[0][1])\n",
    "        \n",
    "    plt.plot(energy, slow, linestyle = 'None', marker = 'o', label = 'Slow QF Points')\n",
    "    plt.plot(energy, fast, linestyle = 'None', marker = 'o', label = 'Fast QF Points')\n",
    "    plt.plot(xfit, yfit_slow, label = 'Line of Best Fit Slow QF')\n",
    "    plt.plot(xfit, yfit_fast, label = 'Line of Best Fit Fast QF')\n",
    "    \n",
    "    plt.ylim(-.5, 15)\n",
    "    plt.title('Quenching Factor for the \\n Fast and Slow Components of BaF2')\n",
    "    plt.xlabel('Energy (MeV)')\n",
    "    plt.ylabel('Quenching Factor')\n",
    "    plt.legend(loc = 1)\n",
    "    #for i, txt in enumerate(names):\n",
    "        #plt.annotate(txt, (x[i],y[i]), ha = 'right')\n",
    "        #plt.show()\n",
    "    #for i, txt in enumerate(first):\n",
    "        #plt.annotate(txt, (x[i], y[i]), ha = 'left')\n",
    "        #plt.show()\n",
    "    plt.show()    \n",
    "    \n",
    "    print 'Curve_fit Linear Regression Slow Component:',linfit_slow\n",
    "    print 'Curve_fit Linear Regression Fast Component:',linfit_fast"
   ]
  },
  {
   "cell_type": "code",
   "execution_count": 18,
   "metadata": {
    "collapsed": false
   },
   "outputs": [
    {
     "ename": "NameError",
     "evalue": "global name 'ratio_filter' is not defined",
     "output_type": "error",
     "traceback": [
      "\u001b[0;31m---------------------------------------------------------------------------\u001b[0m",
      "\u001b[0;31mNameError\u001b[0m                                 Traceback (most recent call last)",
      "\u001b[0;32m<ipython-input-18-c6bcadc5bf2f>\u001b[0m in \u001b[0;36m<module>\u001b[0;34m()\u001b[0m\n\u001b[1;32m      1\u001b[0m \u001b[0;31m# Returns the closest point of intersection and displays the fast and slow quenching factor lines at 7700 keV.\u001b[0m\u001b[0;34m\u001b[0m\u001b[0;34m\u001b[0m\u001b[0m\n\u001b[1;32m      2\u001b[0m \u001b[0;34m\u001b[0m\u001b[0m\n\u001b[0;32m----> 3\u001b[0;31m \u001b[0mfast_slow_7700\u001b[0m\u001b[0;34m(\u001b[0m\u001b[0;34m)\u001b[0m\u001b[0;34m\u001b[0m\u001b[0m\n\u001b[0m\u001b[1;32m      4\u001b[0m \u001b[0;34m\u001b[0m\u001b[0m\n\u001b[1;32m      5\u001b[0m \u001b[0mx1\u001b[0m \u001b[0;34m=\u001b[0m \u001b[0;34m[\u001b[0m\u001b[0;36m5\u001b[0m\u001b[0;34m]\u001b[0m\u001b[0;34m\u001b[0m\u001b[0m\n",
      "\u001b[0;32m<ipython-input-5-d5d76c5f6085>\u001b[0m in \u001b[0;36mfast_slow_7700\u001b[0;34m()\u001b[0m\n\u001b[1;32m      7\u001b[0m \u001b[0;34m\u001b[0m\u001b[0m\n\u001b[1;32m      8\u001b[0m     \u001b[0;32mfor\u001b[0m \u001b[0mi\u001b[0m \u001b[0;32min\u001b[0m \u001b[0mratio_x\u001b[0m\u001b[0;34m:\u001b[0m\u001b[0;34m\u001b[0m\u001b[0m\n\u001b[0;32m----> 9\u001b[0;31m         \u001b[0mfast_filter\u001b[0m\u001b[0;34m.\u001b[0m\u001b[0mappend\u001b[0m\u001b[0;34m(\u001b[0m\u001b[0;34m(\u001b[0m\u001b[0;36m1\u001b[0m\u001b[0;34m/\u001b[0m\u001b[0;34m(\u001b[0m\u001b[0mratio_filter\u001b[0m\u001b[0;34m[\u001b[0m\u001b[0;36m0\u001b[0m\u001b[0;34m]\u001b[0m\u001b[0;34m)\u001b[0m\u001b[0;34m)\u001b[0m \u001b[0;34m*\u001b[0m \u001b[0;34m(\u001b[0m\u001b[0mq_filter\u001b[0m\u001b[0;34m[\u001b[0m\u001b[0;36m3\u001b[0m\u001b[0;34m]\u001b[0m \u001b[0;34m-\u001b[0m \u001b[0;34m(\u001b[0m\u001b[0mratio_filter\u001b[0m\u001b[0;34m[\u001b[0m\u001b[0;36m1\u001b[0m\u001b[0;34m]\u001b[0m\u001b[0;34m)\u001b[0m \u001b[0;34m*\u001b[0m \u001b[0mi\u001b[0m\u001b[0;34m)\u001b[0m\u001b[0;34m)\u001b[0m\u001b[0;34m\u001b[0m\u001b[0m\n\u001b[0m\u001b[1;32m     10\u001b[0m         \u001b[0mfast_2UV\u001b[0m\u001b[0;34m.\u001b[0m\u001b[0mappend\u001b[0m\u001b[0;34m(\u001b[0m\u001b[0;34m(\u001b[0m\u001b[0;36m1\u001b[0m\u001b[0;34m/\u001b[0m\u001b[0;34m(\u001b[0m\u001b[0mratio_2UV\u001b[0m\u001b[0;34m[\u001b[0m\u001b[0;36m0\u001b[0m\u001b[0;34m]\u001b[0m\u001b[0;34m)\u001b[0m\u001b[0;34m)\u001b[0m \u001b[0;34m*\u001b[0m \u001b[0;34m(\u001b[0m\u001b[0mq_2UV\u001b[0m\u001b[0;34m[\u001b[0m\u001b[0;36m3\u001b[0m\u001b[0;34m]\u001b[0m \u001b[0;34m-\u001b[0m \u001b[0;34m(\u001b[0m\u001b[0mratio_2UV\u001b[0m\u001b[0;34m[\u001b[0m\u001b[0;36m1\u001b[0m\u001b[0;34m]\u001b[0m\u001b[0;34m)\u001b[0m \u001b[0;34m*\u001b[0m \u001b[0mi\u001b[0m\u001b[0;34m)\u001b[0m\u001b[0;34m)\u001b[0m\u001b[0;34m\u001b[0m\u001b[0m\n\u001b[1;32m     11\u001b[0m         \u001b[0mfast_SB\u001b[0m\u001b[0;34m.\u001b[0m\u001b[0mappend\u001b[0m\u001b[0;34m(\u001b[0m\u001b[0;34m(\u001b[0m\u001b[0;36m1\u001b[0m\u001b[0;34m/\u001b[0m\u001b[0;34m(\u001b[0m\u001b[0mratio_SB\u001b[0m\u001b[0;34m[\u001b[0m\u001b[0;36m0\u001b[0m\u001b[0;34m]\u001b[0m\u001b[0;34m)\u001b[0m\u001b[0;34m)\u001b[0m \u001b[0;34m*\u001b[0m \u001b[0;34m(\u001b[0m\u001b[0mq_SB\u001b[0m\u001b[0;34m[\u001b[0m\u001b[0;36m3\u001b[0m\u001b[0;34m]\u001b[0m \u001b[0;34m-\u001b[0m \u001b[0;34m(\u001b[0m\u001b[0mratio_SB\u001b[0m\u001b[0;34m[\u001b[0m\u001b[0;36m1\u001b[0m\u001b[0;34m]\u001b[0m\u001b[0;34m)\u001b[0m \u001b[0;34m*\u001b[0m \u001b[0mi\u001b[0m\u001b[0;34m)\u001b[0m\u001b[0;34m)\u001b[0m\u001b[0;34m\u001b[0m\u001b[0m\n",
      "\u001b[0;31mNameError\u001b[0m: global name 'ratio_filter' is not defined"
     ]
    }
   ],
   "source": [
    "# Returns the closest point of intersection and displays the fast and slow quenching factor lines at 7700 keV. \n",
    "\n",
    "fast_slow_7700()\n",
    "\n",
    "x1 = [5]\n",
    "x2 = [-5]\n",
    "\n",
    "Fy1 = y_values(1/(ratio_filter[0]) * (-ratio_filter[1]), 1/(ratio_filter[0]) * (q_filter[3]), x1)[0]\n",
    "Fy2 = y_values(1/(ratio_filter[0]) * (-ratio_filter[1]), 1/(ratio_filter[0]) * (q_filter[3]), x2)[0]\n",
    "\n",
    "UVy1 = y_values(1/(ratio_2UV[0]) * (-ratio_2UV[1]), 1/(ratio_2UV[0]) * (q_2UV[3]), x1)[0]\n",
    "UVy2 = np.asarray(y_values(1/(ratio_2UV[0]) * (-ratio_2UV[1]), 1/(ratio_2UV[0]) * (q_2UV[3]), x2))[0]\n",
    "\n",
    "SBy1 = y_values(1/(ratio_SB[0]) * (-ratio_SB[1]), 1/(ratio_SB[0]) * (q_SB[3]), x1)[0]\n",
    "SBy2 = y_values(1/(ratio_SB[0]) * (-ratio_SB[1]), 1/(ratio_SB[0]) * (q_SB[3]), x2)[0]\n",
    "\n",
    "x1 = x1[0]\n",
    "x2 = x2[0]\n",
    "\n",
    "print Fy1, Fy2\n",
    "print UVy1, UVy2\n",
    "print SBy1, SBy2\n",
    "\n",
    "#QF_7700 = [2, 10]\n",
    "#best_point_7700 = optimize(least_squares_7700, QF_7700)\n"
   ]
  },
  {
   "cell_type": "code",
   "execution_count": null,
   "metadata": {
    "collapsed": false
   },
   "outputs": [],
   "source": [
    "# Returns the closest point of intersection and displays the fast and slow quenching factor lines at 7700 keV. \n",
    "\n",
    "fast_slow_6000()\n",
    "\n",
    "x1 = [5]\n",
    "x2 = [-5]\n",
    "\n",
    "Fy1 = y_values(1/(ratio_filter[0]) * (-ratio_filter[1]), 1/(ratio_filter[0]) * (q_filter[2]), x1)[0]\n",
    "Fy2 = y_values(1/(ratio_filter[0]) * (-ratio_filter[1]), 1/(ratio_filter[0]) * (q_filter[2]), x2)[0]\n",
    "\n",
    "UVy1 = y_values(1/(ratio_2UV[0]) * (-ratio_2UV[1]), 1/(ratio_2UV[0]) * (q_2UV[2]), x1)[0]\n",
    "UVy2 = y_values(1/(ratio_2UV[0]) * (-ratio_2UV[1]), 1/(ratio_2UV[0]) * (q_2UV[2]), x2)[0]\n",
    "\n",
    "SBy1 = y_values(1/(ratio_SB[0]) * (-ratio_SB[1]), 1/(ratio_SB[0]) * (q_SB[2]), x1)[0]\n",
    "SBy2 = y_values(1/(ratio_SB[0]) * (-ratio_SB[1]), 1/(ratio_SB[0]) * (q_SB[2]), x2)[0]\n",
    "\n",
    "x1 = x1[0]\n",
    "x2 = x2[0]\n",
    "\n",
    "print Fy1, Fy2\n",
    "print UVy1, UVy2\n",
    "print SBy1, SBy2\n",
    "\n",
    "#QF_6000 = [2, 10]\n",
    "#best_point_6000 = optimize(least_squares_6000, QF_6000)"
   ]
  },
  {
   "cell_type": "code",
   "execution_count": null,
   "metadata": {
    "collapsed": false
   },
   "outputs": [],
   "source": [
    "# Returns the closest point of intersection and displays the fast and slow quenching factor lines at 7700 keV. \n",
    "\n",
    "fast_slow_5500()\n",
    "\n",
    "x1 = [5]\n",
    "x2 = [-5]\n",
    "\n",
    "Fy1 = y_values(1/(ratio_filter[0]) * (-ratio_filter[1]), 1/(ratio_filter[0]) * (q_filter[1]), x1)[0]\n",
    "Fy2 = y_values(1/(ratio_filter[0]) * (-ratio_filter[1]), 1/(ratio_filter[0]) * (q_filter[1]), x2)[0]\n",
    "\n",
    "UVy1 = y_values(1/(ratio_2UV[0]) * (-ratio_2UV[1]), 1/(ratio_2UV[0]) * (q_2UV[1]), x1)[0]\n",
    "UVy2 = y_values(1/(ratio_2UV[0]) * (-ratio_2UV[1]), 1/(ratio_2UV[0]) * (q_2UV[1]), x2)[0]\n",
    "\n",
    "SBy1 = y_values(1/(ratio_SB[0]) * (-ratio_SB[1]), 1/(ratio_SB[0]) * (q_SB[1]), x1)[0]\n",
    "SBy2 = y_values(1/(ratio_SB[0]) * (-ratio_SB[1]), 1/(ratio_SB[0]) * (q_SB[1]), x2)[0]\n",
    "\n",
    "x1 = x1[0]\n",
    "x2 = x2[0]\n",
    "\n",
    "print Fy1, Fy2\n",
    "print UVy1, UVy2\n",
    "print SBy1, SBy2\n",
    "\n",
    "#QF_5500 = [2, 10]\n",
    "#best_point_5500 = optimize(least_squares_5500, QF_5500)"
   ]
  },
  {
   "cell_type": "code",
   "execution_count": null,
   "metadata": {
    "collapsed": false
   },
   "outputs": [],
   "source": [
    "# Returns the closest point of intersection and displays the fast and slow quenching factor lines at 7700 keV. \n",
    "\n",
    "fast_slow_4800()\n",
    "\n",
    "x1 = [5]\n",
    "x2 = [-5]\n",
    "\n",
    "Fy1 = y_values(1/(ratio_filter[0]) * (-ratio_filter[1]), 1/(ratio_filter[0]) * (q_filter[0]), x1)[0]\n",
    "Fy2 = y_values(1/(ratio_filter[0]) * (-ratio_filter[1]), 1/(ratio_filter[0]) * (q_filter[0]), x2)[0]\n",
    "\n",
    "UVy1 = y_values(1/(ratio_2UV[0]) * (-ratio_2UV[1]), 1/(ratio_2UV[0]) * (q_2UV[0]), x1)[0]\n",
    "UVy2 = y_values(1/(ratio_2UV[0]) * (-ratio_2UV[1]), 1/(ratio_2UV[0]) * (q_2UV[0]), x2)[0]\n",
    "\n",
    "SBy1 = y_values(1/(ratio_SB[0]) * (-ratio_SB[1]), 1/(ratio_SB[0]) * (q_SB[0]), x1)[0]\n",
    "SBy2 = y_values(1/(ratio_SB[0]) * (-ratio_SB[1]), 1/(ratio_SB[0]) * (q_SB[0]), x2)[0]\n",
    "\n",
    "x1 = x1[0]\n",
    "x2 = x2[0]\n",
    "\n",
    "print Fy1, Fy2\n",
    "print UVy1, UVy2\n",
    "print SBy1, SBy2\n",
    "\n",
    "#QF_4800 = [2, 10]\n",
    "#best_point_4800 = optimize(least_squares_4800, QF_4800)"
   ]
  },
  {
   "cell_type": "code",
   "execution_count": 19,
   "metadata": {
    "collapsed": false
   },
   "outputs": [
    {
     "data": {
      "image/png": "[encoded data removed]",
      "text/plain": [
       "<matplotlib.figure.Figure at 0x10c632f90>"
      ]
     },
     "metadata": {},
     "output_type": "display_data"
    },
    {
     "name": "stdout",
     "output_type": "stream",
     "text": [
      "Curve_fit Linear Regression Slow Component: (array([-0.14022455,  4.13733545]), array([[  6.57023558e-05,  -4.05461076e-04],\n",
      "       [ -4.05461076e-04,   2.58314142e-03]]))\n",
      "Curve_fit Linear Regression Fast Component: (array([ -0.46110286,  11.31321166]), array([[ 0.02821513, -0.16788111],\n",
      "       [-0.16788111,  1.03159085]]))\n"
     ]
    },
    {
     "data": {
      "image/png": "[encoded data removed]",
      "text/plain": [
       "<matplotlib.figure.Figure at 0x10cb69e90>"
      ]
     },
     "metadata": {},
     "output_type": "display_data"
    },
    {
     "name": "stdout",
     "output_type": "stream",
     "text": [
      "Curve_fit Linear Regression Slow Component: (array([-0.15302358,  3.37709649]), array([[  9.09875248e-05,  -5.45925145e-04],\n",
      "       [ -5.45925145e-04,   3.37973157e-03]]))\n",
      "Curve_fit Linear Regression Fast Component: (array([-0.4653037 ,  9.17072722]), array([[ 0.01706094, -0.10236562],\n",
      "       [-0.10236562,  0.63372849]]))\n"
     ]
    }
   ],
   "source": [
    "# These points use the printed x and y values from the above fast and slow graphs and runs in\n",
    "# a mathematica script to output the best intersection point for each energy levels. The first output\n",
    "# uses a matrix method where the error is determined from the covariance matirx. The second output\n",
    "# uses a vector method where the error has not yet been determined. \n",
    "\n",
    "slowall_mat = [3.4517, 3.38845, 3.28793, 3.05644]\n",
    "fastall_mat = [9.36388, 8.66285, 8.16079, 7.94513]\n",
    "\n",
    "errorslow_mat = [1.36287, 1.31089, 1.2333, 1.10977]\n",
    "errorfast_mat = [0.0290772, 0.0310162, 0.0319127, 0.0313639]\n",
    "\n",
    "slowall_vec = [2.63215, 2.55913, 2.44613, 2.19841]\n",
    "fastall_vec = [7.15369, 6.55513, 6.08274, 5.72406]\n",
    "\n",
    "energy = [4.8, 5.5, 6.0, 7.7]\n",
    "\n",
    "QF_Matrix(slowall_mat, fastall_mat, errorslow_mat, errorfast_mat, energy)\n",
    "QF_Vector(slowall_vec, fastall_vec, energy)"
   ]
  },
  {
   "cell_type": "code",
   "execution_count": null,
   "metadata": {
    "collapsed": true
   },
   "outputs": [],
   "source": []
  }
 ],
 "metadata": {
  "anaconda-cloud": {},
  "kernelspec": {
   "display_name": "Python [Root]",
   "language": "python",
   "name": "Python [Root]"
  },
  "language_info": {
   "codemirror_mode": {
    "name": "ipython",
    "version": 2
   },
   "file_extension": ".py",
   "mimetype": "text/x-python",
   "name": "python",
   "nbconvert_exporter": "python",
   "pygments_lexer": "ipython2",
   "version": "2.7.12"
  }
 },
 "nbformat": 4,
 "nbformat_minor": 0
}
