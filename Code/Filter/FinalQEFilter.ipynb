{
 "cells": [
  {
   "cell_type": "code",
   "execution_count": 31,
   "metadata": {
    "collapsed": true
   },
   "outputs": [],
   "source": [
    "# Ariel Hasse, David Hitlin, SURF 2016\n",
    "# This program was written to convolve the QE of the shortpass filter with the UV extended PMT\n",
    "# UV full extended short pass filter; 1350 Volts\n",
    "\n",
    "%matplotlib inline\n",
    "import numpy as np\n",
    "import matplotlib.pyplot as plt\n",
    "from scipy.optimize import minimize \n",
    "from scipy import stats\n",
    "from scipy.optimize import curve_fit\n",
    "import math\n",
    "from scipy.interpolate import interp1d\n",
    "from scipy import interp\n",
    "\n",
    "def create_list(file):\n",
    "    '''This function is inteded to take a single column text file and convert it to a list. The function also turns\n",
    "    the list into parts of one hundred to match the other QE data.'''\n",
    "    raw = []\n",
    "    f = open(file, 'r')\n",
    "    for line in f:\n",
    "        raw.append(line)\n",
    "    relative = [float(x) / outof for x in raw]\n",
    "    return relative \n",
    "\n",
    "def final_QE():\n",
    "    '''Using the lists in the previous cell this function creates the final QE for this PMT set up that is compatible\n",
    "    with the BaF2 specturm lists'''\n",
    "    final_QE = []\n",
    "    fil = []\n",
    "    pmt = []\n",
    "    counter = 0\n",
    "    for i in wl_BaF2:\n",
    "        fil.append(interp(i, wl_filter, QE_filter))\n",
    "        pmt.append(interp(i, wl_PMT, QE_PMT))\n",
    "    for i in wl_BaF2:\n",
    "        final_QE.append(fil[counter] * pmt[counter])\n",
    "        counter += 1\n",
    "    return final_QE\n",
    "   \n",
    "    \n",
    "\n",
    "wl_BaF2 = list(range(150, 451, 5))\n",
    "wl_filter = list(range(200, 502, 1))\n",
    "wl_PMT = list(range(150, 501, 10))\n",
    "QE_PMT_raw = [0, 5, 14, 24.5, 28.75, 29.7, 29.3, 28.5, 26.25, 24.5, 23.75, 23.75,\\\n",
    "            25.1, 26, 27.5, 28.3, 28.75, 29.5, 29.75, 30, 30, 29.75, 29.5, 29, 28.75, \\\n",
    "            28, 27.5, 26.25, 25.5, 24, 22.75, 21.25, 19.5, 18, 16.25, 14.5]\n",
    "outof = 100\n",
    "QE_PMT = [float(x) / outof for x in QE_PMT_raw]\n",
    "QE_filter = create_list('QEFilter.txt')\n",
    "QE = final_QE()"
   ]
  },
  {
   "cell_type": "code",
   "execution_count": 35,
   "metadata": {
    "collapsed": false
   },
   "outputs": [
    {
     "data": {
      "text/plain": [
       "[0.0,\n",
       " 0.022884329999999998,\n",
       " 0.045768659999999996,\n",
       " 0.08696045399999999,\n",
       " 0.128152248,\n",
       " 0.176209341,\n",
       " 0.22426643399999996,\n",
       " 0.24371811449999997,\n",
       " 0.26316979499999993,\n",
       " 0.2675178177,\n",
       " 0.27186584039999995,\n",
       " 0.2700050925,\n",
       " 0.26818638669999995,\n",
       " 0.2646276763,\n",
       " 0.2609074395,\n",
       " 0.25056685162500003,\n",
       " 0.24014206125,\n",
       " 0.23215721987500004,\n",
       " 0.2240932925,\n",
       " 0.220767271875,\n",
       " 0.21735603375,\n",
       " 0.21725896749999996,\n",
       " 0.21716116499999996,\n",
       " 0.22333580065,\n",
       " 0.2294237137,\n",
       " 0.23367434685,\n",
       " 0.23771859799999998,\n",
       " 0.24461492025,\n",
       " 0.2513806625,\n",
       " 0.2550329793000001,\n",
       " 0.25856974200000005,\n",
       " 0.260578641925,\n",
       " 0.262619405,\n",
       " 0.265872601125,\n",
       " 0.2689735365,\n",
       " 0.270287746125,\n",
       " 0.27134156875,\n",
       " 0.27252521712499994,\n",
       " 0.27347702999999995,\n",
       " 0.27320271,\n",
       " 0.27302118,\n",
       " 0.27145509462499995,\n",
       " 0.26981503675,\n",
       " 0.26823011212500003,\n",
       " 0.2662719265,\n",
       " 0.2626081965,\n",
       " 0.258351923,\n",
       " 0.253843965375,\n",
       " 0.24764741124999995,\n",
       " 0.23655973612499998,\n",
       " 0.22170344000000003,\n",
       " 0.20250115725,\n",
       " 0.17743869,\n",
       " 0.143355415625,\n",
       " 0.10667771625000001,\n",
       " 0.07037146125000002,\n",
       " 0.039908060999999995,\n",
       " 0.017605491750000004,\n",
       " 0.005955984,\n",
       " 0.00129240375,\n",
       " 0.00017747274999999998]"
      ]
     },
     "execution_count": 35,
     "metadata": {},
     "output_type": "execute_result"
    }
   ],
   "source": [
    "QE"
   ]
  }
 ],
 "metadata": {
  "kernelspec": {
   "display_name": "Python [Root]",
   "language": "python",
   "name": "Python [Root]"
  },
  "language_info": {
   "codemirror_mode": {
    "name": "ipython",
    "version": 2
   },
   "file_extension": ".py",
   "mimetype": "text/x-python",
   "name": "python",
   "nbconvert_exporter": "python",
   "pygments_lexer": "ipython2",
   "version": "2.7.12"
  }
 },
 "nbformat": 4,
 "nbformat_minor": 0
}
