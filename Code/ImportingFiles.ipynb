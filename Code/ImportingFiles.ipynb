{
 "cells": [
  {
   "cell_type": "code",
   "execution_count": 4,
   "metadata": {
    "collapsed": false
   },
   "outputs": [],
   "source": [
    "from IPython.nbformat import v3, v4\n",
    "\n",
    "with open(\"BaF2.py\") as fpin:\n",
    "    text = fpin.read()\n",
    "\n",
    "nbook = v3.reads_py(text)\n",
    "nbook = v4.upgrade(nbook)  # Upgrade v3 to v4\n",
    "\n",
    "jsonform = v4.writes(nbook) + \"\\n\"\n",
    "with open(\"BaF2.ipynb\", \"w\") as fpout:\n",
    "    fpout.write(jsonform)"
   ]
  }
 ],
 "metadata": {
  "anaconda-cloud": {},
  "kernelspec": {
   "display_name": "Python [Root]",
   "language": "python",
   "name": "Python [Root]"
  },
  "language_info": {
   "codemirror_mode": {
    "name": "ipython",
    "version": 2
   },
   "file_extension": ".py",
   "mimetype": "text/x-python",
   "name": "python",
   "nbconvert_exporter": "python",
   "pygments_lexer": "ipython2",
   "version": "2.7.12"
  }
 },
 "nbformat": 4,
 "nbformat_minor": 0
}
