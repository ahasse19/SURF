{
 "cells": [
  {
   "cell_type": "code",
   "execution_count": 2,
   "metadata": {
    "collapsed": true
   },
   "outputs": [],
   "source": [
    "# Ariel Hasse, David Hitlin, SURF; This program creates the convolutions and areas for BaF2 and the UV full extended\n",
    "# PMT second trial. The final output is the percentage of slow and fast component found from a four \n",
    "# gaussian fit. UV full extended second trial; 1460 Volts\n",
    "\n",
    "%matplotlib inline\n",
    "import numpy as np\n",
    "import matplotlib.pyplot as plt\n",
    "from scipy.optimize import minimize \n",
    "from scipy import stats\n",
    "from scipy.optimize import curve_fit\n",
    "import scipy.integrate as integrate\n",
    "from scipy.interpolate import interp1d\n",
    "from scipy import interp            "
   ]
  },
  {
   "cell_type": "code",
   "execution_count": 3,
   "metadata": {
    "collapsed": true
   },
   "outputs": [],
   "source": [
    "def seg_lists(split):\n",
    "    '''This program splits the global lists at a specified y value. It returns a tuple of\n",
    "    four lists; x and y value for the first and second half of the split in data, respectively'''\n",
    "    alldatax = wl1\n",
    "    alldatay = intensity\n",
    "    twox = []\n",
    "    twoy = []\n",
    "    onex = []\n",
    "    oney = []\n",
    "    for i in alldatay:\n",
    "        if i == split:\n",
    "            onex = alldatax\n",
    "            oney = alldatay\n",
    "            break\n",
    "        else:\n",
    "            twox.append(alldatax[i])\n",
    "            twoy.append(alldatay[i])\n",
    "            del alldatax[i]\n",
    "            del alldatay[i]\n",
    "    return (onex, oney, twox, twoy)\n",
    "    \n",
    "    "
   ]
  },
  {
   "cell_type": "code",
   "execution_count": 4,
   "metadata": {
    "collapsed": true
   },
   "outputs": [],
   "source": [
    "def BaF2_spectrum():\n",
    "    '''This function plots the emission spectrum for BaF2 from manufacturer specifications. This plot is not fitted.'''\n",
    "    plt.plot(wl_BaF2, intensity, label = 'Intensity of Light')\n",
    "    plt.title('Emission Spectrum for BaF2')\n",
    "    plt.xlabel('Wavelength in Nanometers')\n",
    "    plt.ylabel('Relative Light Intensity')\n",
    "    plt.legend(loc = 2)\n",
    "    plt.show()\n",
    "    "
   ]
  },
  {
   "cell_type": "code",
   "execution_count": 5,
   "metadata": {
    "collapsed": true
   },
   "outputs": [],
   "source": [
    "def gauss_BaF2(guess):\n",
    "    '''This is a gaussian chi squared sum. The argument requires a list of\n",
    "    three variables and x and y lists must be defined outside of the function\n",
    "    in the program'''\n",
    "    arx = np.asarray(wl_BaF2)\n",
    "    ary = np.asarray(intensity)\n",
    "    return sum(np.power(guess[0]*np.exp(-np.power((arx-guess[1]), 2)/(2*np.power(guess[2], 2)))\\\n",
    "        + guess[3]*np.exp(-np.power((arx-guess[4]), 2)/(2*np.power(guess[5], 2))) + \\\n",
    "        guess[6]*np.exp(-np.power((arx-guess[7]), 2)/(2*np.power(guess[8], 2))) + \\\n",
    "        guess[9]*np.exp(-np.power((arx-guess[10]), 2)/(2*np.power(guess[11], 2))) - ary, 2))\n",
    "        "
   ]
  },
  {
   "cell_type": "code",
   "execution_count": 6,
   "metadata": {
    "collapsed": true
   },
   "outputs": [],
   "source": [
    "def optimize(f, guess):\n",
    "    '''Takes a function and potential parameters and outputs the minimized \n",
    "    values for the guess'''\n",
    "    constr = [(0, None), (0, None), (0, None), (0, None), (0, None), (0, None),(0, None),\\\n",
    "                (0, None), (0, None), (0, None), (0, None), (0, None)]\n",
    "    fit = minimize(f, guess, method= 'Nelder-Mead', bounds = constr)\n",
    "    return fit\n",
    " "
   ]
  },
  {
   "cell_type": "code",
   "execution_count": 7,
   "metadata": {
    "collapsed": true
   },
   "outputs": [],
   "source": [
    "def linefitgauss4(opt, x, title, xname, yname, legend):\n",
    "    ''' This plots the line of best fit from the optimize function for a \n",
    "    ploynomial'''\n",
    "    ans = list(opt.x)\n",
    "    i = 0\n",
    "    y = []\n",
    "    for i in x:\n",
    "        y.append(ans[0]*np.exp(-np.power((i-ans[1]), 2)/(2*np.power(ans[2], 2)))+\\\n",
    "            ans[3]*np.exp(-np.power((i-ans[4]), 2)/(2*np.power(ans[5], 2))) +\\\n",
    "            ans[6]*np.exp(-np.power((i-ans[7]), 2)/(2*np.power(ans[8], 2))) +\\\n",
    "            ans[9]*np.exp(-np.power((i-ans[10]), 2)/(2*np.power(ans[11], 2))))\n",
    "    plt.plot(x, y)\n",
    "    plt.plot(x, y, label = legend)\n",
    "    plt.title(title)\n",
    "    plt.xlabel(xname)\n",
    "    plt.ylabel(yname)\n",
    "    plt.legend(loc='center left', bbox_to_anchor=(1, 0.5))\n",
    "    plt.show() \n",
    "    "
   ]
  },
  {
   "cell_type": "code",
   "execution_count": 8,
   "metadata": {
    "collapsed": true
   },
   "outputs": [],
   "source": [
    "def slow_fast(opt):\n",
    "    '''This function splits the four gaussian fit into the slow and fast components\n",
    "    of the BaF2 crystal and then it plots the fits'''\n",
    "    opti = opt.x\n",
    "    x = list(range(150, 451))\n",
    "    y_fast = []\n",
    "    y_slow = []\n",
    "    \n",
    "    for i in range(150, 451):\n",
    "        y_fast.append(opti[0]*np.exp(-np.power((i-opti[1]), 2)/(2*np.power(opti[2], 2)))\\\n",
    "        + opti[3]*np.exp(-np.power((i-opti[4]), 2)/(2*np.power(opti[5], 2))))\n",
    "        \n",
    "        y_slow.append(opti[6]*np.exp(-np.power((i-opti[7]), 2)/(2*np.power(opti[8], 2)))\\\n",
    "        + opti[9]*np.exp(-np.power((i-opti[10]), 2)/(2*np.power(opti[11], 2))))\n",
    "    \n",
    "    plt.plot(x, y_fast, label = 'Fast Component')\n",
    "    plt.plot(x, y_slow, label = 'Slow Component')\n",
    "    plt.title('Fits for the Slow and Fast Components (BaF2)')\n",
    "    plt.xlabel('Wavelength in Nanometers')\n",
    "    plt.ylabel('Relative Light Intensity')\n",
    "    plt.legend(loc = 2)\n",
    "    plt.show()\n",
    "    "
   ]
  },
  {
   "cell_type": "code",
   "execution_count": 9,
   "metadata": {
    "collapsed": true
   },
   "outputs": [],
   "source": [
    "def comp_fast(x):\n",
    "    '''Returns the function of the fast component with the fitted parameters'''\n",
    "    return values[0]*np.exp(-np.power((x-values[1]), 2)/(2*np.power(values[2], 2)))\\\n",
    "        + values[3]*np.exp(-np.power((x-values[4]), 2)/(2*np.power(values[5], 2)))\n",
    "        "
   ]
  },
  {
   "cell_type": "code",
   "execution_count": 10,
   "metadata": {
    "collapsed": true
   },
   "outputs": [],
   "source": [
    "def comp_slow(x):\n",
    "    '''Returns the function of the fast component with the fitted parameters'''\n",
    "    return values[6]*np.exp(-np.power((x - values[7]), 2)/(2*np.power(values[8], 2)))\\\n",
    "        + values[9]*np.exp(-np.power((x - values[10]), 2)/(2*np.power(values[11], 2)))   \n",
    "    \n",
    "        "
   ]
  },
  {
   "cell_type": "code",
   "execution_count": 11,
   "metadata": {
    "collapsed": true
   },
   "outputs": [],
   "source": [
    "def comp_perc(func1, func2):\n",
    "    '''This function outputs the percentage of the curve that is the fast and slow\n",
    "    componetns, respectively. It takes in a function for both the slow and fast fits'''\n",
    "    fast = integrate.quad(func1, 150, 450)\n",
    "    slow = integrate.quad(func2, 150, 450)\n",
    "    fast_perc = (fast[0])/(fast[0] + slow[0])\n",
    "    slow_perc = (slow[0])/(fast[0] + slow[0])\n",
    "    print (fast_perc, slow_perc)"
   ]
  },
  {
   "cell_type": "code",
   "execution_count": 12,
   "metadata": {
    "collapsed": true
   },
   "outputs": [],
   "source": [
    "def gauss_PMT(para):\n",
    "    arx = np.asarray(wl_BaF2)\n",
    "    ary = np.asarray(y_final)    \n",
    "    return sum(np.power(para[0]*np.exp(-np.power((arx-para[1]), 2)/(2*np.power(para[2], 2)))\\\n",
    "        + para[3]*np.exp(-np.power((arx-para[4]), 2)/(2*np.power(para[5], 2))) + \\\n",
    "        para[6]*np.exp(-np.power((arx-para[7]), 2)/(2*np.power(para[8], 2))) + \\\n",
    "        para[9]*np.exp(-np.power((arx-para[10]), 2)/(2*np.power(para[11], 2))) - ary, 2))\n",
    "       \n",
    "                     \n",
    "             "
   ]
  },
  {
   "cell_type": "code",
   "execution_count": 13,
   "metadata": {
    "collapsed": true
   },
   "outputs": [],
   "source": [
    "def convolve(x, y1, y2):\n",
    "    '''This function takes three lists and convolves the last two. It returns the convolved y list.'''\n",
    "    conv = []\n",
    "    coun = 0\n",
    "    for i in x:\n",
    "        conv.append(y1[coun]*y2[coun])\n",
    "        coun += 1\n",
    "    return conv"
   ]
  },
  {
   "cell_type": "code",
   "execution_count": 14,
   "metadata": {
    "collapsed": true
   },
   "outputs": [],
   "source": [
    "def convolve_func():\n",
    "    wl3 = list(range(150, 501, .1))\n",
    "    quan = []\n",
    "    inten = []\n",
    "    conv = []\n",
    "    coun = 0\n",
    "    splfit = interp1d(wl2, quan_eff_rel)\n",
    "    for i in wl3:\n",
    "        inten.append()\n",
    "    for i in wl3:\n",
    "        quan.append(splfit(i))\n",
    "    for i in inten:\n",
    "        conv.append(i*quan[coun])\n",
    "        coun += 1\n",
    "        \n",
    "    \n",
    "   "
   ]
  },
  {
   "cell_type": "code",
   "execution_count": 15,
   "metadata": {
    "collapsed": true
   },
   "outputs": [],
   "source": [
    "# These two functions create the final QE list for this PMT set-up. This is necessary since the PMT and the filter both\n",
    "# have QEs and they needed to be combined. \n",
    "\n",
    "def create_list(file):\n",
    "    '''This function is inteded to take a single column text file and convert it to a list. The function also turns\n",
    "    the list into parts of one hundred to match the other QE data.'''\n",
    "    raw = []\n",
    "    f = open(file, 'r')\n",
    "    for line in f:\n",
    "        raw.append(line)\n",
    "    relative = [float(x) / outof for x in raw]\n",
    "    return relative \n",
    "\n",
    "def final_QE():\n",
    "    '''Using the lists in the previous cell this function creates the final QE for this PMT set up that is compatible\n",
    "    with the BaF2 specturm lists'''\n",
    "    final_QE = []\n",
    "    fil = []\n",
    "    pmt = []\n",
    "    counter = 0\n",
    "    for i in wl_BaF2:\n",
    "        fil.append(interp(i, wl_filter, QE_filter))\n",
    "        pmt.append(interp(i, wl_PMT, QE_PMT))\n",
    "    for i in wl_BaF2:\n",
    "        final_QE.append(fil[counter] * pmt[counter])\n",
    "        counter += 1\n",
    "    return final_QE\n",
    "   "
   ]
  },
  {
   "cell_type": "code",
   "execution_count": 16,
   "metadata": {
    "collapsed": false
   },
   "outputs": [
    {
     "ename": "IOError",
     "evalue": "[Errno 2] No such file or directory: 'QEFilter.txt'",
     "output_type": "error",
     "traceback": [
      "\u001b[0;31m---------------------------------------------------------------------------\u001b[0m",
      "\u001b[0;31mIOError\u001b[0m                                   Traceback (most recent call last)",
      "\u001b[0;32m<ipython-input-16-68373c5da1a0>\u001b[0m in \u001b[0;36m<module>\u001b[0;34m()\u001b[0m\n\u001b[1;32m      5\u001b[0m \u001b[0moutof\u001b[0m \u001b[0;34m=\u001b[0m \u001b[0;36m100\u001b[0m\u001b[0;34m\u001b[0m\u001b[0m\n\u001b[1;32m      6\u001b[0m \u001b[0mQE_PMT\u001b[0m \u001b[0;34m=\u001b[0m \u001b[0;34m[\u001b[0m\u001b[0mfloat\u001b[0m\u001b[0;34m(\u001b[0m\u001b[0mx\u001b[0m\u001b[0;34m)\u001b[0m \u001b[0;34m/\u001b[0m \u001b[0moutof\u001b[0m \u001b[0;32mfor\u001b[0m \u001b[0mx\u001b[0m \u001b[0;32min\u001b[0m \u001b[0mQE_PMT_raw\u001b[0m\u001b[0;34m]\u001b[0m\u001b[0;34m\u001b[0m\u001b[0m\n\u001b[0;32m----> 7\u001b[0;31m \u001b[0mQE_filter\u001b[0m \u001b[0;34m=\u001b[0m \u001b[0mcreate_list\u001b[0m\u001b[0;34m(\u001b[0m\u001b[0;34m'QEFilter.txt'\u001b[0m\u001b[0;34m)\u001b[0m\u001b[0;34m\u001b[0m\u001b[0m\n\u001b[0m\u001b[1;32m      8\u001b[0m \u001b[0mQE\u001b[0m \u001b[0;34m=\u001b[0m \u001b[0mfinal_QE\u001b[0m\u001b[0;34m(\u001b[0m\u001b[0;34m)\u001b[0m\u001b[0;34m\u001b[0m\u001b[0m\n\u001b[1;32m      9\u001b[0m \u001b[0mintensity\u001b[0m \u001b[0;34m=\u001b[0m \u001b[0;34m[\u001b[0m\u001b[0;36m0\u001b[0m\u001b[0;34m,\u001b[0m \u001b[0;36m0\u001b[0m\u001b[0;34m,\u001b[0m \u001b[0;36m0\u001b[0m\u001b[0;34m,\u001b[0m \u001b[0;36m0\u001b[0m\u001b[0;34m,\u001b[0m \u001b[0;36m.02\u001b[0m\u001b[0;34m,\u001b[0m \u001b[0;36m.03\u001b[0m\u001b[0;34m,\u001b[0m \u001b[0;36m.06\u001b[0m\u001b[0;34m,\u001b[0m \u001b[0;36m.105\u001b[0m\u001b[0;34m,\u001b[0m \u001b[0;36m.17\u001b[0m\u001b[0;34m,\u001b[0m \u001b[0;36m.165\u001b[0m\u001b[0;34m,\u001b[0m \u001b[0;36m.16\u001b[0m\u001b[0;34m,\u001b[0m \u001b[0;36m.14\u001b[0m\u001b[0;34m,\u001b[0m \u001b[0;36m.18\u001b[0m\u001b[0;34m,\u001b[0m \u001b[0;36m.275\u001b[0m\u001b[0;34m,\u001b[0m         \u001b[0;36m.33\u001b[0m\u001b[0;34m,\u001b[0m \u001b[0;36m.3\u001b[0m\u001b[0;34m,\u001b[0m \u001b[0;36m.255\u001b[0m\u001b[0;34m,\u001b[0m \u001b[0;36m.18\u001b[0m\u001b[0;34m,\u001b[0m \u001b[0;36m.17\u001b[0m\u001b[0;34m,\u001b[0m \u001b[0;36m.17\u001b[0m\u001b[0;34m,\u001b[0m \u001b[0;36m.175\u001b[0m\u001b[0;34m,\u001b[0m \u001b[0;36m.225\u001b[0m\u001b[0;34m,\u001b[0m \u001b[0;36m.33\u001b[0m\u001b[0;34m,\u001b[0m \u001b[0;36m.4\u001b[0m\u001b[0;34m,\u001b[0m \u001b[0;36m.49\u001b[0m\u001b[0;34m,\u001b[0m \u001b[0;36m.58\u001b[0m\u001b[0;34m,\u001b[0m \u001b[0;36m.66\u001b[0m\u001b[0;34m,\u001b[0m \u001b[0;36m.74\u001b[0m\u001b[0;34m,\u001b[0m \u001b[0;36m.82\u001b[0m\u001b[0;34m,\u001b[0m         \u001b[0;36m.9\u001b[0m\u001b[0;34m,\u001b[0m \u001b[0;36m.97\u001b[0m\u001b[0;34m,\u001b[0m \u001b[0;36m1.01\u001b[0m\u001b[0;34m,\u001b[0m \u001b[0;36m1\u001b[0m\u001b[0;34m,\u001b[0m \u001b[0;36m.96\u001b[0m\u001b[0;34m,\u001b[0m \u001b[0;36m.88\u001b[0m\u001b[0;34m,\u001b[0m \u001b[0;36m.82\u001b[0m\u001b[0;34m,\u001b[0m \u001b[0;36m.75\u001b[0m\u001b[0;34m,\u001b[0m \u001b[0;36m.68\u001b[0m\u001b[0;34m,\u001b[0m \u001b[0;36m.625\u001b[0m\u001b[0;34m,\u001b[0m \u001b[0;36m.54\u001b[0m\u001b[0;34m,\u001b[0m \u001b[0;36m.47\u001b[0m\u001b[0;34m,\u001b[0m \u001b[0;36m.42\u001b[0m\u001b[0;34m,\u001b[0m \u001b[0;36m.375\u001b[0m\u001b[0;34m,\u001b[0m \u001b[0;36m.34\u001b[0m\u001b[0;34m,\u001b[0m         \u001b[0;36m.31\u001b[0m\u001b[0;34m,\u001b[0m \u001b[0;36m.275\u001b[0m\u001b[0;34m,\u001b[0m \u001b[0;36m.26\u001b[0m\u001b[0;34m,\u001b[0m \u001b[0;36m.24\u001b[0m\u001b[0;34m,\u001b[0m \u001b[0;36m.225\u001b[0m\u001b[0;34m,\u001b[0m \u001b[0;36m.21\u001b[0m\u001b[0;34m,\u001b[0m \u001b[0;36m.19\u001b[0m\u001b[0;34m,\u001b[0m \u001b[0;36m.18\u001b[0m\u001b[0;34m,\u001b[0m \u001b[0;36m.165\u001b[0m\u001b[0;34m,\u001b[0m \u001b[0;36m.15\u001b[0m\u001b[0;34m,\u001b[0m \u001b[0;36m.14\u001b[0m\u001b[0;34m,\u001b[0m \u001b[0;36m.125\u001b[0m\u001b[0;34m,\u001b[0m \u001b[0;36m.115\u001b[0m\u001b[0;34m,\u001b[0m \u001b[0;36m.09\u001b[0m\u001b[0;34m,\u001b[0m \u001b[0;36m.075\u001b[0m\u001b[0;34m,\u001b[0m \u001b[0;36m.06\u001b[0m\u001b[0;34m,\u001b[0m \u001b[0;36m.05\u001b[0m\u001b[0;34m]\u001b[0m\u001b[0;34m\u001b[0m\u001b[0m\n",
      "\u001b[0;32m<ipython-input-15-63200c4b989e>\u001b[0m in \u001b[0;36mcreate_list\u001b[0;34m(file)\u001b[0m\n\u001b[1;32m      6\u001b[0m     the list into parts of one hundred to match the other QE data.'''\n\u001b[1;32m      7\u001b[0m     \u001b[0mraw\u001b[0m \u001b[0;34m=\u001b[0m \u001b[0;34m[\u001b[0m\u001b[0;34m]\u001b[0m\u001b[0;34m\u001b[0m\u001b[0m\n\u001b[0;32m----> 8\u001b[0;31m     \u001b[0mf\u001b[0m \u001b[0;34m=\u001b[0m \u001b[0mopen\u001b[0m\u001b[0;34m(\u001b[0m\u001b[0mfile\u001b[0m\u001b[0;34m,\u001b[0m \u001b[0;34m'r'\u001b[0m\u001b[0;34m)\u001b[0m\u001b[0;34m\u001b[0m\u001b[0m\n\u001b[0m\u001b[1;32m      9\u001b[0m     \u001b[0;32mfor\u001b[0m \u001b[0mline\u001b[0m \u001b[0;32min\u001b[0m \u001b[0mf\u001b[0m\u001b[0;34m:\u001b[0m\u001b[0;34m\u001b[0m\u001b[0m\n\u001b[1;32m     10\u001b[0m         \u001b[0mraw\u001b[0m\u001b[0;34m.\u001b[0m\u001b[0mappend\u001b[0m\u001b[0;34m(\u001b[0m\u001b[0mline\u001b[0m\u001b[0;34m)\u001b[0m\u001b[0;34m\u001b[0m\u001b[0m\n",
      "\u001b[0;31mIOError\u001b[0m: [Errno 2] No such file or directory: 'QEFilter.txt'"
     ]
    }
   ],
   "source": [
    "wl_BaF2 = list(range(150, 451, 5))\n",
    "wl_2UV = list(range(150, 501, 10))\n",
    "wl_PMT = list(range(150, 501, 10))\n",
    "QE_PMT_raw = [0, 5, 14, 24.5, 28.75, 29.7, 29.3, 28.5, 26.25, 24.5, 23.75, 23.75,\\\n",
    "            25.1, 26, 27.5, 28.3, 28.75, 29.5, 29.75, 30, 30, 29.75, 29.5, 29, 28.75, \\\n",
    "            28, 27.5, 26.25, 25.5, 24, 22.75, 21.25, 19.5, 18, 16.25, 14.5]\n",
    "outof = 100\n",
    "QE_PMT = [float(x) / outof for x in QE_PMT_raw]\n",
    "QE_filter = create_list('QEFilter.txt')\n",
    "QE = final_QE()\n",
    "intensity = [0, 0, 0, 0, .02, .03, .06, .105, .17, .165, .16, .14, .18, .275, \\\n",
    "        .33, .3, .255, .18, .17, .17, .175, .225, .33, .4, .49, .58, .66, .74, .82, \\\n",
    "        .9, .97, 1.01, 1, .96, .88, .82, .75, .68, .625, .54, .47, .42, .375, .34, \\\n",
    "        .31, .275, .26, .24, .225, .21, .19, .18, .165, .15, .14, .125, .115, .09, .075, .06, .05]\n",
    "\n"
   ]
  },
  {
   "cell_type": "code",
   "execution_count": null,
   "metadata": {
    "collapsed": false
   },
   "outputs": [],
   "source": [
    "# Generates the plots, convolutions, fits, and percentages\n",
    "\n",
    "#BaF2_spectrum()\n",
    "\n",
    "#guess = [.16, 192, 12.06, .301, 221, 14.8, .91, 305, 42.27, .221, 376, 61]\n",
    "#fit1 = optimize(gauss_BaF2, guess)\n",
    "#linefitgauss4(fit2, wl_BaF2, 'Fitted Emission Spectrum for BaF2', 'Wavelength in Nanometers',\\\n",
    "#                'Relative Light Intensity', 'Light Intensity Fit')\n",
    "\n",
    "y_final = convolve(wl_BaF2, QE, intensity)\n",
    "#plt.plot(wl_BaF2, y_final)\n",
    "#plt.show()\n",
    "\n",
    "para = [.0998, 180, 8, .158, 222, 11, .359, 301, 30.2, .2, 370, 70]\n",
    "fit2 = optimize(gauss_PMT, para)\n",
    "linefitgauss4(fit2, wl_BaF2, 'Fitted Emission Spectrum for UV PMT with Filter Convolution',\\\n",
    "              'Wavelength in Nanometers', 'Relative Light Intensity', 'Light Intensity Fit')\n",
    "values = list(fit2.x)\n",
    "#values = [4.81878721e-02, 1.92595247e+02, 7.78265493e+00, 8.62458430e-02, 2.20879193e+02, 1.07785755e+01, 2.53039186e-01, 3.06118184e+02, 2.86227125e+01, 6.88847019e-02, 3.67604375e+02, 4.52877055e+01]\n",
    "\n",
    "slow_fast(fit2)\n",
    "comp_perc(comp_fast, comp_slow)\n",
    "          "
   ]
  },
  {
   "cell_type": "code",
   "execution_count": null,
   "metadata": {
    "collapsed": true
   },
   "outputs": [],
   "source": []
  }
 ],
 "metadata": {
  "anaconda-cloud": {},
  "kernelspec": {
   "display_name": "Python [Root]",
   "language": "python",
   "name": "Python [Root]"
  },
  "language_info": {
   "codemirror_mode": {
    "name": "ipython",
    "version": 2
   },
   "file_extension": ".py",
   "mimetype": "text/x-python",
   "name": "python",
   "nbconvert_exporter": "python",
   "pygments_lexer": "ipython2",
   "version": "2.7.12"
  }
 },
 "nbformat": 4,
 "nbformat_minor": 0
}
