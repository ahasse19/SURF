{
 "cells": [
  {
   "cell_type": "code",
   "execution_count": 1,
   "metadata": {
    "collapsed": true
   },
   "outputs": [],
   "source": [
    "# Ariel Hasse, David Hitlin, SURF; \n",
    "# UV full spectrum extended; 1460 Volts\n",
    "# This program pulls the channel number and energy count for each source in the specified PMT\n",
    "# set-up. It fits the energy peaks to a gaussian and records the peak value to find the calibration\n",
    "# between known source energy and channel number. This slope and the expected radium energy peaks\n",
    "# create the quenching factor for each energy level. The final output is a txt file with the resolutions\n",
    "# of the peaks, the gaussian parameters, the calibration factor, and the quenching factors and all png \n",
    "# files for each plot produced.\n",
    "\n",
    "\n",
    "%matplotlib inline\n",
    "\n",
    "import numpy as np\n",
    "import matplotlib.pyplot as plt\n",
    "import math\n",
    "import scipy.integrate as integrate\n",
    "from scipy.optimize import minimize \n",
    "from scipy import stats\n",
    "from scipy.optimize import curve_fit\n",
    "from scipy.interpolate import interp1d\n",
    "from scipy import interp"
   ]
  },
  {
   "cell_type": "code",
   "execution_count": 2,
   "metadata": {
    "collapsed": true
   },
   "outputs": [],
   "source": [
    "def retrieve_data(file):\n",
    "    '''This function takes data from a file and outputs the columns into two lists, x and y. \n",
    "    The file must have two columns of data seperated by a tab. The argument requires a \n",
    "    docstring for the file name.'''\n",
    "    \n",
    "    # A place hold list, a place hold string, the first column value in string, the second \n",
    "    # column value in string, x values list, and y values list\n",
    "    point = []\n",
    "    num = ''\n",
    "    first = ''\n",
    "    second = ''\n",
    "    x = []\n",
    "    y = []\n",
    "    \n",
    "    # This opens the file and reads the first line to discard the first value\n",
    "    f = open(file, 'r')\n",
    "    f.readline()\n",
    "    \n",
    "    # This will loop through each line to extract the x and y values and append it to the \n",
    "    # x and y lists\n",
    "    for line in f:\n",
    "        num = ''\n",
    "        point = list(line)\n",
    "        \n",
    "        # This loop removes the first value in point and the tab in between the columns.\n",
    "        for i in range(len(point)):\n",
    "            if point[0] == '\\t':\n",
    "                del point[0]\n",
    "                first = num\n",
    "                break\n",
    "            else: \n",
    "                num += point[0]\n",
    "                del point[0]\n",
    "        num = ''\n",
    "        \n",
    "        # This loop saves each column in the list as a string and creates an integer\n",
    "        # of the second value. It saves the placeholder num value to second when the tab\n",
    "        # at the end of the file occurs. \n",
    "        for i in range(len(point)):\n",
    "            if point[0] == '\\t':\n",
    "                del point[0]\n",
    "                second = num\n",
    "                break\n",
    "            else: \n",
    "                num += point[0]\n",
    "                del point[0]\n",
    "        x.append(float(first))\n",
    "        y.append(float(second))\n",
    "        \n",
    "    return x, y"
   ]
  },
  {
   "cell_type": "code",
   "execution_count": 3,
   "metadata": {
    "collapsed": true
   },
   "outputs": [],
   "source": [
    "def data_interval(x, y, upper, lower):\n",
    "    ''' This function takes two lists, x an y, and two integers, upper and lower.\n",
    "    It outputs two lists within the upper and lower bounds (determined by the x variable)''' \n",
    "    \n",
    "    # counter for y index, list for segmented x values, list for segmented y values\n",
    "    count = 0\n",
    "    newx = []\n",
    "    newy = []\n",
    "    for i in x:\n",
    "        if i > lower:\n",
    "                if i < upper:\n",
    "                    newx.append(i)\n",
    "                    newy.append(y[count])\n",
    "        count += 1\n",
    "    return newx, newy"
   ]
  },
  {
   "cell_type": "code",
   "execution_count": 4,
   "metadata": {
    "collapsed": true
   },
   "outputs": [],
   "source": [
    "def rawdata(x, y, title, xname, yname, legend):\n",
    "    ''' This function takes two lists and graphing information and plots the \n",
    "    lists against eachother'''\n",
    "    plt.plot(x, y, label = legend)\n",
    "    plt.title(title)\n",
    "    plt.xlabel(xname)\n",
    "    plt.ylabel(yname)\n",
    "    plt.legend()\n",
    "    plt.show()"
   ]
  },
  {
   "cell_type": "code",
   "execution_count": 5,
   "metadata": {
    "collapsed": true
   },
   "outputs": [],
   "source": [
    "def bestfit(x, y):\n",
    "    ''' This function takes two lists and finds the line of bestfit'''\n",
    "    best = np.polyfit(x, y, 2, full = True)\n",
    "    plt.plot(x, np.poly1d(np.polyfit(x, y, 2))(x))\n",
    "    return best \n",
    " "
   ]
  },
  {
   "cell_type": "code",
   "execution_count": 6,
   "metadata": {
    "collapsed": true
   },
   "outputs": [],
   "source": [
    "def poly(guess):\n",
    "    '''This is a polynomial chi squared sum. The argument requires a list of\n",
    "    three variables and x and y lists must be defined outside of the function\n",
    "    in the porgram'''\n",
    "    arx = np.asarray(x1)\n",
    "    ary = np.asarray(y1)\n",
    "    return sum(np.power(guess[0]*np.power(arx, 2) + guess[1]*arx + guess[2] - ary, 2))\n",
    "  "
   ]
  },
  {
   "cell_type": "code",
   "execution_count": 7,
   "metadata": {
    "collapsed": true
   },
   "outputs": [],
   "source": [
    "def gauss(guess):\n",
    "    '''This is a gaussian chi squared sum. The argument requires a list of\n",
    "    three variables and x and y lists must be defined outside of the function\n",
    "    in the porgram'''\n",
    "    arx = np.asarray(x1)\n",
    "    ary = np.asarray(y1)\n",
    "    return sum(np.power(guess[0]*np.exp(-np.power((arx-guess[1]), 2)/(2*np.power(guess[2], 2))) + guess[3]*arx + guess[4] - ary, 2))\n",
    "    "
   ]
  },
  {
   "cell_type": "code",
   "execution_count": 8,
   "metadata": {
    "collapsed": true
   },
   "outputs": [],
   "source": [
    "def optimize(f, guess):\n",
    "    '''Takes a function and potential parameters and outputs the minimized \n",
    "    values for the guess'''\n",
    "    fit = minimize(f, guess, method= 'Nelder-Mead', bounds = ((0, None), (0, None), (0, None), (None, 0), (0, None)))\n",
    "    return fit\n",
    "   \n",
    "  "
   ]
  },
  {
   "cell_type": "code",
   "execution_count": 9,
   "metadata": {
    "collapsed": true
   },
   "outputs": [],
   "source": [
    "def linefitpoly(opt, x, title, xname, yname, legend):\n",
    "    ''' This plots the line of best fit from the optimize function for a \n",
    "    ploynomial'''\n",
    "    ans = list(opt.x)\n",
    "    ct = 0\n",
    "    y = []\n",
    "    for i in x:\n",
    "        y.append(ans[0]*np.power(x[ct], 2) + ans[1]*x[ct] + ans[2])\n",
    "        ct += 1\n",
    "    plt.plot(x, y, label = legend)\n",
    "    plt.title(title)\n",
    "    plt.xlabel(xname)\n",
    "    plt.ylabel(yname)\n",
    "    plt.legend()\n",
    "    plt.show()"
   ]
  },
  {
   "cell_type": "code",
   "execution_count": 10,
   "metadata": {
    "collapsed": true
   },
   "outputs": [],
   "source": [
    "def linefitgauss(opt, x, title, xname, yname, legend):\n",
    "    ''' This plots the line of best fit from the optimize function for a \n",
    "    ploynomial'''\n",
    "    ans = list(opt.x)\n",
    "    i = 0\n",
    "    y = []\n",
    "    for i in x:\n",
    "        y.append(ans[0]*np.exp(-np.power((i-ans[1]), 2)/(2*np.power(ans[2], 2)))+ ans[3]*i + ans[4])\n",
    "    plt.plot(x, y)\n",
    "    plt.plot(x, y, label = legend)\n",
    "    plt.title(title)\n",
    "    plt.xlabel(xname)\n",
    "    plt.ylabel(yname)\n",
    "    plt.legend()\n",
    "    plt.show()\n",
    "\n",
    " "
   ]
  },
  {
   "cell_type": "code",
   "execution_count": 11,
   "metadata": {
    "collapsed": true
   },
   "outputs": [],
   "source": [
    "def linefitgaussRn(opt, x, title, xname, yname, legend):\n",
    "    ''' This plots the line of best fit from the optimize function for a \n",
    "    ploynomial'''\n",
    "    ans = list(opt.x)\n",
    "    i = 0\n",
    "    y = []\n",
    "    for i in x:\n",
    "        y.append(ans[0]*np.exp(-np.power((i-ans[1]), 2)/(2*np.power(ans[2], 2)))+\\\n",
    "            ans[3]*np.exp(-np.power((i-ans[4]), 2)/(2*np.power(ans[5], 2))) +\\\n",
    "            ans[6]*np.exp(-np.power((i-ans[7]), 2)/(2*np.power(ans[8], 2)))+ ans[9]*i + ans[10])\n",
    "    plt.plot(x, y)\n",
    "    plt.plot(x, y, label = legend)\n",
    "    plt.title(title)\n",
    "    plt.xlabel(xname)\n",
    "    plt.ylabel(yname)\n",
    "    plt.legend()\n",
    "    plt.show()        \n",
    " "
   ]
  },
  {
   "cell_type": "code",
   "execution_count": 12,
   "metadata": {
    "collapsed": true
   },
   "outputs": [],
   "source": [
    "def gaussRn(guess):\n",
    "    '''This is a gaussian chi squared sum. The argument requires a list of\n",
    "    three variables and x and y lists must be defined outside of the function\n",
    "    in the porgram'''\n",
    "    arx = np.asarray(x1)\n",
    "    ary = np.asarray(y1)\n",
    "    return sum(np.power(guess[0]*np.exp(-np.power((arx-guess[1]), 2)/(2*np.power(guess[2], 2)))\\\n",
    "        + guess[3]*np.exp(-np.power((arx-guess[4]), 2)/(2*np.power(guess[5], 2))) + \\\n",
    "        guess[6]*np.exp(-np.power((arx-guess[7]), 2)/(2*np.power(guess[8], 2))) + arx*guess[9] + guess[10] - ary, 2))\n",
    "                                                      \n",
    "                                           "
   ]
  },
  {
   "cell_type": "code",
   "execution_count": 13,
   "metadata": {
    "collapsed": true
   },
   "outputs": [],
   "source": [
    "def resolution(opt):\n",
    "    '''This finds the resolution of the fit using the width, standard deviation\n",
    "    and the center, the mean'''\n",
    "    values = list(opt.x)\n",
    "    return values[2]/values[1]\n",
    "    "
   ]
  },
  {
   "cell_type": "code",
   "execution_count": 14,
   "metadata": {
    "collapsed": true
   },
   "outputs": [],
   "source": [
    "def conversion(opt, y):\n",
    "    '''Automated Line of Best Fit for gamma and electron sources'''\n",
    "    y = []\n",
    "    x = []\n",
    "    rawx =[]\n",
    "    for i in opt:\n",
    "        rawx.append(i)\n",
    "    for i in rawx:\n",
    "        x.append(i[1])\n",
    "    for i in y:\n",
    "        y.append(i)\n",
    "    plt.errorbar(x, y, xerr = (opt[0][0], opt[1][0], opt[2][0]))\n",
    "    plt.scipy.stats.linregress(x, y)\n",
    "    plt.show()"
   ]
  },
  {
   "cell_type": "code",
   "execution_count": 15,
   "metadata": {
    "collapsed": true
   },
   "outputs": [],
   "source": [
    "def line(x, i, j):\n",
    "    ''' A linear function'''\n",
    "    return i*x + j  "
   ]
  },
  {
   "cell_type": "code",
   "execution_count": 16,
   "metadata": {
    "collapsed": false
   },
   "outputs": [],
   "source": [
    "def chan_kev():\n",
    "    '''By replacing the y, and err values the function plots the points with\n",
    "    their error and plots the line of bestfit. The error values are not correct'''\n",
    "    x = [60, 511, 662, 1170, 1274, 1330]\n",
    "    y = [304, 2343.6, 3445, 5772.8, 6373.4, 6648.8]\n",
    "    err = [59.6, 138, 163.7, 560.1, 224.8, 239.8]\n",
    "    names = [' ', 'Na-22 First  ', 'Cs-137  ', 'Co-60 First  ', 'Na-22 Second  ', 'Co-60 Second  ']\n",
    "    first = ['  AmBe-241']\n",
    "    yfit = []\n",
    "    linfit = curve_fit(line, x, y, guessregress, sigma = err)\n",
    "    for i in range(1400):\n",
    "        yfit.append(i*linfit[0][0] + linfit[0][1])\n",
    "    plt.errorbar(x, y, yerr= err, linestyle = 'None', marker = 'o', label = 'Raw Data Points')\n",
    "    plt.plot(range(1400), yfit, label = 'Line of Best Fit')\n",
    "    plt.ylim(-100, 17000)\n",
    "    plt.title('Channel to Kev Count for Four Radioactive Sources')\n",
    "    plt.xlabel('Known Particle Energy (KeV)')\n",
    "    plt.ylabel('Channels (ADC)')\n",
    "    plt.legend(loc = 2)\n",
    "    #for i, txt in enumerate(names):\n",
    "        #plt.annotate(txt, (x[i],y[i]), ha = 'right')\n",
    "        #plt.show()\n",
    "    #for i, txt in enumerate(first):\n",
    "        #plt.annotate(txt, (x[i], y[i]), ha = 'left')\n",
    "        #plt.show()\n",
    "    plt.show()    \n",
    "    print linfit\n",
    "  "
   ]
  },
  {
   "cell_type": "code",
   "execution_count": 17,
   "metadata": {
    "collapsed": true
   },
   "outputs": [],
   "source": [
    "def radium():\n",
    "    '''x represents the known keV values for the Ra impurities and y represents \n",
    "    the measured values in channels. This function outputs the quenching factor \n",
    "    for each measurement'''\n",
    "    known = [4800, 5500, 6000, 7700]\n",
    "    measured = [7317.1, 8740.1, 10044.8, 14202]\n",
    "    error1 = [273.5, 389.5, 300.2, 356.8]\n",
    "    error2 = []\n",
    "    names = ['Ra-226    ', 'Ra-222    ', 'Po-218   ', 'Po-214    ']\n",
    "    coun = 0\n",
    "    tick = 0\n",
    "    quench = []\n",
    "    yfit = []\n",
    "    for i in measured:\n",
    "        pred = i*0.200634\n",
    "        quench.append(known[coun]/pred)\n",
    "        coun += 1\n",
    "    linfit = stats.linregress(known, quench)\n",
    "    for i in range(8000):\n",
    "        yfit.append(i*linfit[0] + linfit[1])\n",
    "    for i in error1:\n",
    "        exper = measured[tick]\n",
    "        recor = known[tick]\n",
    "        error2.append((i*recor)/(math.pow(exper, 2)))\n",
    "        tick += 1\n",
    "    plt.plot(range(8000), yfit, label = 'Line of Best Fit')\n",
    "    plt.xlim(4000, 8000)\n",
    "    plt.errorbar(known, quench, yerr = error2, marker = 'o', linestyle = 'None', label = 'Quenching Factor')\n",
    "    plt.title('Quenching Factor at Various Energies for Ra 226 in BaF2')\n",
    "    plt.xlabel('Energy in keV')\n",
    "    plt.ylabel('Quenching Factor (Birks Constant)')\n",
    "    plt.legend(loc = 1)\n",
    "    #for i, txt in enumerate(names):\n",
    "        #plt.annotate(txt, (known[i],quench[i]), ha = 'right')\n",
    "        #plt.show()\n",
    "    plt.show()\n",
    "    return quench\n",
    "    \n",
    "    \n",
    "\n",
    " "
   ]
  },
  {
   "cell_type": "code",
   "execution_count": 18,
   "metadata": {
    "collapsed": false
   },
   "outputs": [
    {
     "ename": "NameError",
     "evalue": "name 'energy' is not defined",
     "output_type": "error",
     "traceback": [
      "\u001b[0;31m---------------------------------------------------------------------------\u001b[0m",
      "\u001b[0;31mNameError\u001b[0m                                 Traceback (most recent call last)",
      "\u001b[0;32m<ipython-input-18-1bec2eebcec9>\u001b[0m in \u001b[0;36m<module>\u001b[0;34m()\u001b[0m\n\u001b[1;32m      7\u001b[0m \u001b[0mthreepeaks\u001b[0m \u001b[0;34m=\u001b[0m \u001b[0;34m[\u001b[0m\u001b[0;36m40\u001b[0m\u001b[0;34m,\u001b[0m \u001b[0;36m14000\u001b[0m\u001b[0;34m,\u001b[0m \u001b[0;36m1000\u001b[0m\u001b[0;34m,\u001b[0m \u001b[0;36m40\u001b[0m\u001b[0;34m,\u001b[0m \u001b[0;36m17000\u001b[0m\u001b[0;34m,\u001b[0m \u001b[0;36m1000\u001b[0m\u001b[0;34m,\u001b[0m \u001b[0;36m40\u001b[0m\u001b[0;34m,\u001b[0m \u001b[0;36m20000\u001b[0m\u001b[0;34m,\u001b[0m \u001b[0;36m1000\u001b[0m\u001b[0;34m,\u001b[0m \u001b[0;36m0\u001b[0m\u001b[0;34m,\u001b[0m \u001b[0;36m0\u001b[0m\u001b[0;34m]\u001b[0m\u001b[0;34m\u001b[0m\u001b[0m\n\u001b[1;32m      8\u001b[0m \u001b[0;34m\u001b[0m\u001b[0m\n\u001b[0;32m----> 9\u001b[0;31m \u001b[0mx1\u001b[0m \u001b[0;34m=\u001b[0m \u001b[0menergy\u001b[0m\u001b[0;34m(\u001b[0m\u001b[0malldata\u001b[0m\u001b[0;34m(\u001b[0m\u001b[0;34m'AmBe2UV1460.txt'\u001b[0m\u001b[0;34m)\u001b[0m\u001b[0;34m[\u001b[0m\u001b[0;36m0\u001b[0m\u001b[0;34m]\u001b[0m\u001b[0;34m,\u001b[0m \u001b[0malldata\u001b[0m\u001b[0;34m(\u001b[0m\u001b[0;34m'AmBe2UV1460.txt'\u001b[0m\u001b[0;34m)\u001b[0m\u001b[0;34m[\u001b[0m\u001b[0;36m1\u001b[0m\u001b[0;34m]\u001b[0m\u001b[0;34m,\u001b[0m \u001b[0;36m500\u001b[0m\u001b[0;34m,\u001b[0m \u001b[0;36m150\u001b[0m\u001b[0;34m)\u001b[0m\u001b[0;34m[\u001b[0m\u001b[0;36m0\u001b[0m\u001b[0;34m]\u001b[0m\u001b[0;34m\u001b[0m\u001b[0m\n\u001b[0m\u001b[1;32m     10\u001b[0m \u001b[0my1\u001b[0m \u001b[0;34m=\u001b[0m \u001b[0menergy\u001b[0m\u001b[0;34m(\u001b[0m\u001b[0malldata\u001b[0m\u001b[0;34m(\u001b[0m\u001b[0;34m'AmBe2UV1460.txt'\u001b[0m\u001b[0;34m)\u001b[0m\u001b[0;34m[\u001b[0m\u001b[0;36m0\u001b[0m\u001b[0;34m]\u001b[0m\u001b[0;34m,\u001b[0m \u001b[0malldata\u001b[0m\u001b[0;34m(\u001b[0m\u001b[0;34m'AmBe2UV1460.txt'\u001b[0m\u001b[0;34m)\u001b[0m\u001b[0;34m[\u001b[0m\u001b[0;36m1\u001b[0m\u001b[0;34m]\u001b[0m\u001b[0;34m,\u001b[0m \u001b[0;36m500\u001b[0m\u001b[0;34m,\u001b[0m \u001b[0;36m150\u001b[0m\u001b[0;34m)\u001b[0m\u001b[0;34m[\u001b[0m\u001b[0;36m1\u001b[0m\u001b[0;34m]\u001b[0m\u001b[0;34m\u001b[0m\u001b[0m\n\u001b[1;32m     11\u001b[0m \u001b[0;34m\u001b[0m\u001b[0m\n",
      "\u001b[0;31mNameError\u001b[0m: name 'energy' is not defined"
     ]
    }
   ],
   "source": [
    "# AmBe 241\n",
    "\n",
    "poly = [-.000001, .2, -1600]\n",
    "\n",
    "hyp = [5000, 300, 200, -.00001, -.0001]\n",
    "\n",
    "threepeaks = [40, 14000, 1000, 40, 17000, 1000, 40, 20000, 1000, 0, 0]\n",
    "\n",
    "x1 = energy(alldata('AmBe2UV1460.txt')[0], alldata('AmBe2UV1460.txt')[1], 500, 150)[0]\n",
    "y1 = energy(alldata('AmBe2UV1460.txt')[0], alldata('AmBe2UV1460.txt')[1], 500, 150)[1]  \n",
    "        \n",
    "rawdata(x1, y1, 'AmBe 60 keV Peak at 1460 Volts 2UV', 'Energy in Channels', 'Counts', 'Collected Data (Observed)')\n",
    "fitted = optimize(gauss, hyp)\n",
    "linefitgauss(fitted, x1, 'AmBe 60 keV Peak at 1460 Volts 2UV', 'Energy in Channels', 'Counts', 'Gaussian Fit to Data')\n",
    "print resolution(fitted)\n",
    "print fitted.x"
   ]
  },
  {
   "cell_type": "code",
   "execution_count": null,
   "metadata": {
    "collapsed": false,
    "scrolled": true
   },
   "outputs": [],
   "source": [
    "# Cs 137\n",
    "\n",
    "poly = [-.000001, .2, -1600]\n",
    "\n",
    "hyp = [500, 3400, 800, -.00001, -.0001]\n",
    "\n",
    "threepeaks = [40, 14000, 1000, 40, 17000, 1000, 40, 20000, 1000, 0, 0]\n",
    "\n",
    "x1 = energy(alldata('Cs2UV1460.txt')[0], alldata('Cs2UV1460.txt')[1], 4000, 3000)[0]\n",
    "y1 = energy(alldata('Cs2UV1460.txt')[0], alldata('Cs2UV1460.txt')[1], 4000, 3000)[1]  \n",
    "        \n",
    "rawdata(x1, y1, 'Cs 137 662 keV Peak at 1460 Volts 2UV', 'Energy in Channels', 'Counts', 'Collected Data (Observed)')\n",
    "fitted = optimize(gauss, hyp)\n",
    "linefitgauss(fitted, x1, 'Cs 137 662 keV Peak at 1460 Volts 2UV', 'Energy in Channels', 'Counts', 'Gaussian Fit to Data')\n",
    "print resolution(fitted)\n",
    "print fitted.x"
   ]
  },
  {
   "cell_type": "code",
   "execution_count": null,
   "metadata": {
    "collapsed": false
   },
   "outputs": [],
   "source": [
    "# Co 60 First Peak\n",
    "\n",
    "poly = [-.000001, .2, -1600]\n",
    "\n",
    "hyp = [3500, 5900, 300, -.45, -.0001]\n",
    "\n",
    "threepeaks = [40, 14000, 1000, 40, 17000, 1000, 40, 20000, 1000, 0, 0]\n",
    "\n",
    "x1 = energy(alldata('Co2UV1460.txt')[0], alldata('Co2UV1460.txt')[1], 6200, 5500)[0]\n",
    "y1 = energy(alldata('Co2UV1460.txt')[0], alldata('Co2UV1460.txt')[1], 6200, 5500)[1]  \n",
    "        \n",
    "\n",
    "rawdata(x1, y1, 'Co 60 1170 keV Peak at 1460 Volts 2UV', 'Energy in Channels', 'Counts', 'Collected Data (Observed)')\n",
    "fitted = optimize(gauss, hyp)\n",
    "linefitgauss(fitted, x1, 'Co 60 1170 keV Peak at 1460 Volts 2UV', 'Energy in Channels', 'Counts', 'Gaussian Fit to Data')\n",
    "print resolution(fitted)\n",
    "print fitted.x"
   ]
  },
  {
   "cell_type": "code",
   "execution_count": null,
   "metadata": {
    "collapsed": false
   },
   "outputs": [],
   "source": [
    "# Co 60 Second Peak\n",
    "\n",
    "poly = [-.000001, .2, -1600]\n",
    "\n",
    "hyp = [1500, 6700, 800, -.09, -.0001]\n",
    "\n",
    "threepeaks = [40, 14000, 1000, 40, 17000, 1000, 40, 20000, 1000, 0, 0]\n",
    "\n",
    "x1 = energy(alldata('Co2UV1460.txt')[0], alldata('Co2UV1460.txt')[1], 7200, 6300)[0]\n",
    "y1 = energy(alldata('Co2UV1460.txt')[0], alldata('Co2UV1460.txt')[1], 7200, 6300)[1]  \n",
    "        \n",
    "\n",
    "rawdata(x1, y1, 'Co 60 1330 keV Peak at 1460 Volts 2UV', 'Energy in Channels', 'Counts', 'Collected Data (Observed)')\n",
    "fitted = optimize(gauss, hyp)\n",
    "linefitgauss(fitted, x1, 'Co 60 1330 keV Peak at 1350 Volts', 'Energy in Channels', 'Counts', 'Gaussian Fit to Data')\n",
    "print resolution(fitted)\n",
    "print fitted.x"
   ]
  },
  {
   "cell_type": "code",
   "execution_count": null,
   "metadata": {
    "collapsed": false
   },
   "outputs": [],
   "source": [
    "# Na 22 First Peak\n",
    "\n",
    "poly = [-.000001, .2, -1600]\n",
    "\n",
    "hyp = [2500, 2600, 600, -.00001, -.0001]\n",
    "\n",
    "threepeaks = [40, 14000, 1000, 40, 17000, 1000, 40, 20000, 1000, 0, 0]\n",
    "\n",
    "x1 = energy(alldata('Na2UV1460.txt')[0], alldata('Na2UV1460.txt')[1], 3000, 2100)[0]\n",
    "y1 = energy(alldata('Na2UV1460.txt')[0], alldata('Na2UV1460.txt')[1], 3000, 2100)[1]  \n",
    "        \n",
    "rawdata(x1, y1, 'Na 22 511 keV Peak at 1460 Volts 2UV', 'Energy in Channels', 'Counts', 'Collected Data (Observed)')\n",
    "fitted = optimize(gauss, hyp)\n",
    "linefitgauss(fitted, x1, 'Na 22 511 keV Peak at 1460 Volts 2UV', 'Energy in Channels', 'Counts', 'Gaussian Fit to Data')\n",
    "print resolution(fitted)\n",
    "print fitted.x"
   ]
  },
  {
   "cell_type": "code",
   "execution_count": null,
   "metadata": {
    "collapsed": false
   },
   "outputs": [],
   "source": [
    "# Na 22 Second Peak\n",
    "\n",
    "poly = [-.000001, .2, -1600]\n",
    "\n",
    "hyp = [150, 6400, 800, -.0001, -.0001]\n",
    "\n",
    "threepeaks = [40, 14000, 1000, 40, 17000, 1000, 40, 20000, 1000, 0, 0]\n",
    "\n",
    "x1 = energy(alldata('Na2UV1460.txt')[0], alldata('Na2UV1460.txt')[1], 7000, 5800)[0]\n",
    "y1 = energy(alldata('Na2UV1460.txt')[0], alldata('Na2UV1460.txt')[1], 7000, 5800)[1]  \n",
    "        \n",
    "rawdata(x1, y1, 'Na 22 1274 keV Peak at 1460 Volts 2UV', 'Energy in Channels', 'Counts', 'Collected Data (Observed)')\n",
    "fitted = optimize(gauss, hyp)\n",
    "linefitgauss(fitted, x1, 'Na 22 1274 keV Peak at 1460 Volts 2UV', 'Energy in Channels', 'Counts', 'Gaussian Fit to Data')\n",
    "print resolution(fitted)\n",
    "print fitted.x"
   ]
  },
  {
   "cell_type": "code",
   "execution_count": null,
   "metadata": {
    "collapsed": false
   },
   "outputs": [],
   "source": [
    "# Ra 226 First Three Peaks\n",
    "\n",
    "threepeaks = [254, 7300, 1000, 300, 8600, 1200, 260, 10500, 1100, 0, 0]\n",
    "\n",
    "x1 = energy(alldata('Ra2UV1460.txt')[0], alldata('Ra2UV1460.txt')[1], 11000, 6500)[0]\n",
    "y1 = energy(alldata('Ra2UV1460.txt')[0], alldata('Ra2UV1460.txt')[1], 11000, 6500)[1]  \n",
    "        \n",
    "rawdata(x1, y1, 'Ra 226 4800, 5500, and 6000 keV Peaks at 1460 Volts 2UV', 'Energy in Channels', 'Counts', 'Collected Data (Observed)')\n",
    "fitted = optimize(gaussRn, threepeaks)\n",
    "linefitgaussRn(fitted, x1, 'Ra 226 4800, 5500, and 6000 keV Peaks at 1460 Volts 2UV', 'Energy in Channels', 'Counts', 'Gaussian Fit to Data')\n",
    "print resolution(fitted)\n",
    "print fitted.x"
   ]
  },
  {
   "cell_type": "code",
   "execution_count": null,
   "metadata": {
    "collapsed": false
   },
   "outputs": [],
   "source": [
    "# Ra 226 Fourth Peak\n",
    "\n",
    "poly = [-.000001, .2, -1600]\n",
    "\n",
    "hyp = [500, 14300, 1500, -.000001, -.0001]\n",
    "\n",
    "threepeaks = [80, 10000, 1200, 80, 12000, 1200, 80, 14200, 1200, 0, 0]\n",
    "\n",
    "x1 = energy(alldata('Ra2UV1460.txt')[0], alldata('Ra2UV1460.txt')[1], 15500, 13000)[0]\n",
    "y1 = energy(alldata('Ra2UV1460.txt')[0], alldata('Ra2UV1460.txt')[1], 15500, 13000)[1]  \n",
    "        \n",
    "rawdata(x1, y1, 'Ra 7700 keV Peak at 1460 Volts 2UV', 'Energy in Channels', 'Counts', 'Collected Data (Observed)')\n",
    "fitted = optimize(gauss, hyp)\n",
    "linefitgauss(fitted, x1, 'Ra 226 7700 keV Peak at 1460 Volts 2UV', 'Energy in Channels', 'Counts', 'Gaussian Fit to Data')\n",
    "print resolution(fitted)\n",
    "print fitted.x"
   ]
  },
  {
   "cell_type": "code",
   "execution_count": 19,
   "metadata": {
    "collapsed": false,
    "scrolled": false
   },
   "outputs": [
    {
     "data": {
      "image/png": "[encoded data removed]",
      "text/plain": [
       "<matplotlib.figure.Figure at 0x10af05250>"
      ]
     },
     "metadata": {},
     "output_type": "display_data"
    },
    {
     "name": "stdout",
     "output_type": "stream",
     "text": [
      "(array([ 4.9841961 , -7.85054076]), array([[  1.17780188e-02,  -3.44708105e+00],\n",
      "       [ -3.44708105e+00,   2.81272545e+03]]))\n"
     ]
    }
   ],
   "source": [
    "guessregress = [11, 50]\n",
    "chan_kev()"
   ]
  },
  {
   "cell_type": "code",
   "execution_count": 20,
   "metadata": {
    "collapsed": false
   },
   "outputs": [
    {
     "data": {
      "image/png": "[encoded data removed]",
      "text/plain": [
       "<matplotlib.figure.Figure at 0x10f4acd10>"
      ]
     },
     "metadata": {},
     "output_type": "display_data"
    },
    {
     "data": {
      "text/plain": [
       "[3.269623267619078, 3.1364744649952887, 2.9771822748456365, 2.702319438114875]"
      ]
     },
     "execution_count": 20,
     "metadata": {},
     "output_type": "execute_result"
    }
   ],
   "source": [
    "radium()"
   ]
  },
  {
   "cell_type": "code",
   "execution_count": null,
   "metadata": {
    "collapsed": true
   },
   "outputs": [],
   "source": []
  }
 ],
 "metadata": {
  "anaconda-cloud": {},
  "kernelspec": {
   "display_name": "Python [Root]",
   "language": "python",
   "name": "Python [Root]"
  },
  "language_info": {
   "codemirror_mode": {
    "name": "ipython",
    "version": 2
   },
   "file_extension": ".py",
   "mimetype": "text/x-python",
   "name": "python",
   "nbconvert_exporter": "python",
   "pygments_lexer": "ipython2",
   "version": "2.7.12"
  }
 },
 "nbformat": 4,
 "nbformat_minor": 0
}
