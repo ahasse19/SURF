{
 "cells": [
  {
   "cell_type": "code",
   "execution_count": 1,
   "metadata": {
    "collapsed": true
   },
   "outputs": [],
   "source": [
    "# Ariel Hasse, David Hitlin, SURF; This programs finds the point of best fit for three linear equations, using a least\n",
    "# squares regression. This is just for 7700 keV. \n",
    "\n",
    "%matplotlib inline\n",
    "import numpy as np\n",
    "import matplotlib.pyplot as plt\n",
    "from scipy.optimize import minimize \n",
    "from scipy import stats\n",
    "from scipy.optimize import curve_fit\n",
    "import math"
   ]
  },
  {
   "cell_type": "code",
   "execution_count": 2,
   "metadata": {
    "collapsed": true
   },
   "outputs": [],
   "source": [
    "q_filter = [2.9762807168446512, 2.8493222446691253, 2.7046015279015254, 2.459904200468519]\n",
    "q_2UV = [3.269623267619078, 3.1364744649952887, 2.9771822748456365, 2.702319438114875]\n",
    "q_SB = [5.155991131280197, 4.789453699584773, 4.475792970019146, 4.166273337999092]\n",
    "\n",
    "ratio_filter = (0.10416262087647044, 0.8958373791235295)\n",
    "ratio_2UV = (0.11286243062670365, 0.8871375693732964)\n",
    "ratio_SB = (0.5585223540278348, 0.4414776459721652)"
   ]
  },
  {
   "cell_type": "code",
   "execution_count": 3,
   "metadata": {
    "collapsed": true
   },
   "outputs": [],
   "source": [
    "def y_values(a, b, x):\n",
    "    '''This function takes the parameters for a linear function and returns a list of corresponding y values\n",
    "    to the x list which is given as an argument.'''\n",
    "    y = []\n",
    "    for i in x:\n",
    "        y.append(a*i + b)\n",
    "    return y"
   ]
  },
  {
   "cell_type": "code",
   "execution_count": 10,
   "metadata": {
    "collapsed": false
   },
   "outputs": [],
   "source": [
    "x1 = [-5]\n",
    "x2 = [5]\n",
    "\n",
    "Fy1 = y_values(1/(ratio_filter[0]) * (-ratio_filter[1]), 1/(ratio_filter[0]) * (q_filter[3]), x1)[0]\n",
    "Fy2 = y_values(1/(ratio_filter[0]) * (-ratio_filter[1]), 1/(ratio_filter[0]) * (q_filter[3]), x2)[0]\n",
    "\n",
    "UVy1 = y_values(1/(ratio_2UV[0]) * (-ratio_2UV[1]), 1/(ratio_2UV[0]) * (q_2UV[3]), x1)[0]\n",
    "UVy2 = np.asarray(y_values(1/(ratio_2UV[0]) * (-ratio_2UV[1]), 1/(ratio_2UV[0]) * (q_2UV[3]), x2))[0]\n",
    "\n",
    "SBy1 = y_values(1/(ratio_SB[0]) * (-ratio_SB[1]), 1/(ratio_SB[0]) * (q_SB[3]), x1)[0]\n",
    "SBy2 = y_values(1/(ratio_SB[0]) * (-ratio_SB[1]), 1/(ratio_SB[0]) * (q_SB[3]), x2)[0]\n",
    "\n",
    "x1 = x1[0]\n",
    "x2 = x2[0]\n",
    "\n",
    "\n",
    "#the lines are two points squared distance\n",
    "\n",
    "#Fline = np.power(x1 - x2, 2) + np.power(Fy1 - Fy2, 2) \n",
    "#UVline = np.power(x1 - x2, 2) + np.power(UVy1 - UVy2, 2)\n",
    "#SBline = np.power(x1 - x2, 2) + np.power(SBy1 - SBy2, 2)"
   ]
  },
  {
   "cell_type": "code",
   "execution_count": 12,
   "metadata": {
    "collapsed": false
   },
   "outputs": [
    {
     "name": "stdout",
     "output_type": "stream",
     "text": [
      " 66.6178619326 -19.3858668125\n",
      "63.2452025474 -15.3582409942\n",
      "11.4116499042 3.50726357506\n"
     ]
    }
   ],
   "source": [
    "print Fy1, Fy2\n",
    "print UVy1, UVy2\n",
    "print SBy1, SBy2"
   ]
  },
  {
   "cell_type": "code",
   "execution_count": 6,
   "metadata": {
    "collapsed": false
   },
   "outputs": [],
   "source": [
    "def least_squares(point):\n",
    "    '''This function finds the least squared value for the hypothetical intersection of three lines.'''\n",
    "    F = np.power(point[0] - x1, 2) + np.power(point[1]- Fy1 ,2) -\\\n",
    "        ((1/(np.power(x1 - x2, 2) + np.power(Fy1 - Fy2, 2))) * (np.power((point[0] - x1) * (x2 - x1), 2)\\\n",
    "                                                                + np.power((point[1] - Fy1) * (Fy2 - Fy1), 2)))\n",
    "        \n",
    "    UV = np.power(point[0] - x1, 2) + np.power(point[1]- UVy1 ,2) -\\\n",
    "        ((1/(np.power(x1 - x2, 2) + np.power(UVy1 - UVy2, 2))) * (np.power((point[0] - x1) * (x2 - x1), 2)\\\n",
    "                                                                  + np.power((point[1] - UVy1) * (UVy2 - UVy1), 2)))\n",
    "        \n",
    "    SB = np.power(point[0] - x1, 2) + np.power(point[1]- SBy1 ,2) -\\\n",
    "        ((1/(np.power(x1 - x2, 2) + np.power(SBy1 - SBy2, 2))) * (np.power((point[0] - x1) * (x2 - x1), 2)\\\n",
    "                                                                  + np.power((point[1] - SBy1) * (SBy2 - SBy1), 2)))\n",
    "        \n",
    "    \n",
    "    return F + UV + SB"
   ]
  },
  {
   "cell_type": "code",
   "execution_count": 7,
   "metadata": {
    "collapsed": false
   },
   "outputs": [],
   "source": [
    "#x1 = np.asarray(list(range(0, 1, 1)))\n",
    "#x2 = np.asarray(list(range(1, 2, 1)))\n",
    "\n",
    "#Fy1 = np.asarray(y_values(1/(ratio_filter[0]) * (-ratio_filter[1]), 1/(ratio_filter[0]) * (q_filter[3]), x1))\n",
    "#Fy2 = np.asarray(y_values(1/(ratio_filter[0]) * (-ratio_filter[1]), 1/(ratio_filter[0]) * (q_filter[3]), x2))\n",
    "\n",
    "#UVy1 = np.asarray(y_values(1/(ratio_2UV[0]) * (-ratio_2UV[1]), 1/(ratio_2UV[0]) * (q_2UV[3]), x1))\n",
    "#UVy2 = np.asarray(y_values(1/(ratio_2UV[0]) * (-ratio_2UV[1]), 1/(ratio_2UV[0]) * (q_2UV[3]), x2))\n",
    "\n",
    "#SBy1 = np.asarray(y_values(1/(ratio_SB[0]) * (-ratio_SB[1]), 1/(ratio_SB[0]) * (q_SB[3]), x1))\n",
    "#SBy2 = np.asarray(y_values(1/(ratio_SB[0]) * (-ratio_SB[1]), 1/(ratio_SB[0]) * (q_SB[3]), x2))\n",
    "\n",
    "\n",
    "#the lines are two points squared distance\n",
    "\n",
    "#Fline = np.power(x1 - x2, 2) + np.power(Fy1 - Fy2, 2) \n",
    "#UVline = np.power(x1 - x2, 2) + np.power(UVy1 - UVy2, 2)\n",
    "#SBline = np.power(x1 - x2, 2) + np.power(SBy1 - SBy2, 2)"
   ]
  },
  {
   "cell_type": "code",
   "execution_count": 8,
   "metadata": {
    "collapsed": true
   },
   "outputs": [],
   "source": [
    "def optimize(f, point):\n",
    "    '''Takes a function and potential parameters and outputs the minimized \n",
    "    values for the guess'''\n",
    "    fit = minimize(f, point, method= 'Nelder-Mead')\n",
    "    return fit"
   ]
  },
  {
   "cell_type": "code",
   "execution_count": 9,
   "metadata": {
    "collapsed": false
   },
   "outputs": [
    {
     "data": {
      "text/plain": [
       " final_simplex: (array([[ 3.99999037,  3.69420824],\n",
       "       [ 4.00000798,  3.69420336],\n",
       "       [ 4.00002001,  3.69430578]]), array([ 5.01601067,  5.01601067,  5.01601067]))\n",
       "           fun: 5.0160106701288907\n",
       "       message: 'Optimization terminated successfully.'\n",
       "          nfev: 81\n",
       "           nit: 41\n",
       "        status: 0\n",
       "       success: True\n",
       "             x: array([ 3.99999037,  3.69420824])"
      ]
     },
     "execution_count": 9,
     "metadata": {},
     "output_type": "execute_result"
    }
   ],
   "source": [
    "QF_7700 = [2.5, 10]\n",
    "optimize(least_squares, QF_7700)"
   ]
  },
  {
   "cell_type": "code",
   "execution_count": null,
   "metadata": {
    "collapsed": true
   },
   "outputs": [],
   "source": []
  }
 ],
 "metadata": {
  "anaconda-cloud": {},
  "kernelspec": {
   "display_name": "Python [Root]",
   "language": "python",
   "name": "Python [Root]"
  },
  "language_info": {
   "codemirror_mode": {
    "name": "ipython",
    "version": 2
   },
   "file_extension": ".py",
   "mimetype": "text/x-python",
   "name": "python",
   "nbconvert_exporter": "python",
   "pygments_lexer": "ipython2",
   "version": "2.7.12"
  }
 },
 "nbformat": 4,
 "nbformat_minor": 0
}
