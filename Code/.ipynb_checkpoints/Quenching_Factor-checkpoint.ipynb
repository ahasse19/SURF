{
 "cells": [
  {
   "cell_type": "code",
   "execution_count": 14,
   "metadata": {
    "collapsed": true
   },
   "outputs": [],
   "source": [
    "# Ariel Hasse, David Hitlin, SURF; This programs has four plots for each alpha energy level used in the experiment. \n",
    "\n",
    "%matplotlib inline\n",
    "import numpy as np\n",
    "import matplotlib.pyplot as plt\n",
    "from scipy.optimize import minimize \n",
    "from scipy import stats\n",
    "from scipy.optimize import curve_fit\n",
    "import math\n"
   ]
  },
  {
   "cell_type": "code",
   "execution_count": 15,
   "metadata": {
    "collapsed": false
   },
   "outputs": [],
   "source": [
    "#Each PMT's final data values\n",
    "\n",
    "q_filter = [2.9762807168446512, 2.8493222446691253, 2.7046015279015254, 2.459904200468519]\n",
    "q_2UV = [3.269623267619078, 3.1364744649952887, 2.9771822748456365, 2.702319438114875]\n",
    "q_SB = [5.155991131280197, 4.789453699584773, 4.475792970019146, 4.166273337999092]\n",
    "\n",
    "ratio_filter = (0.10416262087647044, 0.8958373791235295)\n",
    "ratio_2UV = (0.11286243062670365, 0.8871375693732964)\n",
    "ratio_SB = (0.5585223540278348, 0.4414776459721652)\n",
    "\n",
    "ratio_x = list(range(0, 5, 1))"
   ]
  },
  {
   "cell_type": "code",
   "execution_count": 30,
   "metadata": {
    "collapsed": true
   },
   "outputs": [],
   "source": [
    "def fast_slow_7700():\n",
    "    '''This function outputs the (fast, slow) best fit value for each energy level and graphs each PMTs quenching\n",
    "    factor for 7700 keV Radium peak'''\n",
    "    fast_filter = []\n",
    "    fast_2UV = []\n",
    "    fast_SB = []\n",
    "    \n",
    "    for i in ratio_x:\n",
    "        fast_filter.append((1/(ratio_filter[0])) * (q_filter[3] - (ratio_filter[1]) * i))\n",
    "        fast_2UV.append((1/(ratio_2UV[0])) * (q_2UV[3] - (ratio_2UV[1]) * i))\n",
    "        fast_SB.append((1/(ratio_SB[0])) * (q_SB[3] - (ratio_SB[1]) * i))\n",
    "    \n",
    "    plt.plot(ratio_x, fast_filter, label = 'UV with Filter')\n",
    "    plt.plot(ratio_x, fast_2UV, label = 'UV')\n",
    "    plt.plot(ratio_x, fast_SB, label = 'Solarblind')\n",
    "    plt.title('7700 keV Fast versus Slow Component Ratio')\n",
    "    plt.xlabel('Slow Component')\n",
    "    plt.ylabel('Fast Component')\n",
    "    plt.legend()\n",
    "    plt.show()\n",
    "   "
   ]
  },
  {
   "cell_type": "code",
   "execution_count": 31,
   "metadata": {
    "collapsed": true
   },
   "outputs": [],
   "source": [
    "def least_squares_7700(point):\n",
    "    '''This function finds the least squared value for the hypothetical intersection of three lines.'''\n",
    "    F = np.power(point[0] - x1, 2) + np.power(point[1]- Fy1 ,2) -\\\n",
    "        ((1/(np.power(x1 - x2, 2) + np.power(Fy1 - Fy2, 2))) * (np.power((point[0] - x1) * (x2 - x1), 2)\\\n",
    "                                                                + np.power((point[1] - Fy1) * (Fy2 - Fy1), 2)))\n",
    "        \n",
    "    UV = np.power(point[0] - x1, 2) + np.power(point[1]- UVy1 ,2) -\\\n",
    "        ((1/(np.power(x1 - x2, 2) + np.power(UVy1 - UVy2, 2))) * (np.power((point[0] - x1) * (x2 - x1), 2)\\\n",
    "                                                                  + np.power((point[1] - UVy1) * (UVy2 - UVy1), 2)))\n",
    "        \n",
    "    SB = np.power(point[0] - x1, 2) + np.power(point[1]- SBy1 ,2) -\\\n",
    "        ((1/(np.power(x1 - x2, 2) + np.power(SBy1 - SBy2, 2))) * (np.power((point[0] - x1) * (x2 - x1), 2)\\\n",
    "                                                                  + np.power((point[1] - SBy1) * (SBy2 - SBy1), 2)))\n",
    "        \n",
    "    \n",
    "    return sum(F + UV + SB)"
   ]
  },
  {
   "cell_type": "code",
   "execution_count": 17,
   "metadata": {
    "collapsed": true
   },
   "outputs": [],
   "source": [
    "def fast_slow_6000():\n",
    "    '''This function outputs the (fast, slow) best fit value for each energy level and graphs each PMTs quenching\n",
    "    factor for 6000 keV Radium peak'''\n",
    "    fast_filter = []\n",
    "    fast_2UV = []\n",
    "    fast_SB = []\n",
    "    \n",
    "    for i in ratio_x:\n",
    "        fast_filter.append((1/(ratio_filter[0])) * (q_filter[2] - (ratio_filter[1]) * i))\n",
    "        fast_2UV.append((1/(ratio_2UV[0])) * (q_2UV[2] - (ratio_2UV[1]) * i))\n",
    "        fast_SB.append((1/(ratio_SB[0])) * (q_SB[2] - (ratio_SB[1]) * i))\n",
    "    \n",
    "    plt.plot(ratio_x, fast_filter, label = 'UV with Filter')\n",
    "    plt.plot(ratio_x, fast_2UV, label = 'UV')\n",
    "    plt.plot(ratio_x, fast_SB, label = 'Solarblind')\n",
    "    plt.title('6000 keV Fast versus Slow Component Ratio')\n",
    "    plt.xlabel('Slow Component')\n",
    "    plt.ylabel('Fast Component')\n",
    "    plt.legend()\n",
    "    plt.show()\n",
    "    "
   ]
  },
  {
   "cell_type": "code",
   "execution_count": 18,
   "metadata": {
    "collapsed": true
   },
   "outputs": [],
   "source": [
    "def fast_slow_5500():\n",
    "    '''This function outputs the (fast, slow) best fit value for each energy level and graphs each PMTs quenching\n",
    "    factor for 5500 keV Radium peak'''\n",
    "    fast_filter = []\n",
    "    fast_2UV = []\n",
    "    fast_SB = []\n",
    "    \n",
    "    for i in ratio_x:\n",
    "        fast_filter.append((1/(ratio_filter[0])) * (q_filter[1] - (ratio_filter[1]) * i))\n",
    "        fast_2UV.append((1/(ratio_2UV[0])) * (q_2UV[1] - (ratio_2UV[1]) * i))\n",
    "        fast_SB.append((1/(ratio_SB[0])) * (q_SB[1] - (ratio_SB[1]) * i))\n",
    "    \n",
    "    plt.plot(ratio_x, fast_filter, label = 'UV with Filter')\n",
    "    plt.plot(ratio_x, fast_2UV, label = 'UV')\n",
    "    plt.plot(ratio_x, fast_SB, label = 'Solarblind')\n",
    "    plt.title('5500 keV Fast versus Slow Component Ratio')\n",
    "    plt.xlabel('Slow Component')\n",
    "    plt.ylabel('Fast Component')\n",
    "    plt.legend()\n",
    "    plt.show()\n",
    "    \n",
    "    # return point of best fit\n",
    "    # Write the rest of the function use the equations for points of best fit"
   ]
  },
  {
   "cell_type": "code",
   "execution_count": 19,
   "metadata": {
    "collapsed": true
   },
   "outputs": [],
   "source": [
    "def fast_slow_4800():\n",
    "    '''This function outputs the (fast, slow) best fit value for each energy level and graphs each PMTs quenching\n",
    "    factor for 4800 keV Radium peak'''\n",
    "    fast_filter = []\n",
    "    fast_2UV = []\n",
    "    fast_SB = []\n",
    "    \n",
    "    for i in ratio_x:\n",
    "        fast_filter.append((1/(ratio_filter[0])) * (q_filter[0] - (ratio_filter[1]) * i))\n",
    "        fast_2UV.append((1/(ratio_2UV[0])) * (q_2UV[0] - (ratio_2UV[1]) * i))\n",
    "        fast_SB.append((1/(ratio_SB[0])) * (q_SB[0] - (ratio_SB[1]) * i))\n",
    "    \n",
    "    plt.plot(ratio_x, fast_filter, label = 'UV with Filter')\n",
    "    plt.plot(ratio_x, fast_2UV, label = 'UV')\n",
    "    plt.plot(ratio_x, fast_SB, label = 'Solarblind')\n",
    "    plt.title('7700 keV Fast versus Slow Component Ratio')\n",
    "    plt.xlabel('Slow Component')\n",
    "    plt.ylabel('Fast Component')\n",
    "    plt.legend()\n",
    "    plt.show()\n",
    "    \n",
    "    \n",
    "    # return point of best fit (x, y)\n",
    "    # Write the rest of the function use the equations for points of best fit"
   ]
  },
  {
   "cell_type": "code",
   "execution_count": 20,
   "metadata": {
    "collapsed": true
   },
   "outputs": [],
   "source": [
    "def y_values(a, b, x):\n",
    "    '''This function takes the parameters for a linear function and returns a list of corresponding y values\n",
    "    to the x list which is given as an argument.'''\n",
    "    y = []\n",
    "    for i in x:\n",
    "        y.append(a*i + b)\n",
    "    return y"
   ]
  },
  {
   "cell_type": "code",
   "execution_count": 21,
   "metadata": {
    "collapsed": true
   },
   "outputs": [],
   "source": [
    "def optimize(f, point):\n",
    "    '''Takes a function and potential parameters and outputs the minimized \n",
    "    values for the guess'''\n",
    "    fit = minimize(f, point, method= 'Nelder-Mead')\n",
    "    return fit"
   ]
  },
  {
   "cell_type": "code",
   "execution_count": 22,
   "metadata": {
    "collapsed": true
   },
   "outputs": [],
   "source": [
    "guessregress = [11, 50]\n",
    "    \n",
    "def line(x, i, j):\n",
    "    ''' A linear function'''\n",
    "    return i*x + j  "
   ]
  },
  {
   "cell_type": "code",
   "execution_count": 23,
   "metadata": {
    "collapsed": false
   },
   "outputs": [],
   "source": [
    "def QF():\n",
    "    '''This function outputs a graph and the linear regression for the quenching factor'''\n",
    "    yfit_slow = []\n",
    "    yfit_fast = []\n",
    "    \n",
    "    linfit_slow = curve_fit(line, slow, energy, guessregress)\n",
    "    linfit_fast = curve_fit(line, fast, energy, guessregress)\n",
    "    for i in range(5000, 8000, 10):\n",
    "        yfit_slow.append(i*linfit_slow[0][0] + linfit_slow[0][1])\n",
    "        yfit_fast.append(i*linfit_fast[0][0] + linfit_fast[0][1])\n",
    "        \n",
    "    plt.plot(range(5000, 8000, 10), yfit_slow, label = 'Slow Component Fit')\n",
    "    plt.plot(range(5000, 8000, 10), yfit_fast, label = 'Fast Component Fit')\n",
    "    plt.title('Alpha Particle Quneching Factor as a Function of Energy for BaF2 Crystals')\n",
    "    plt.xlabel('Energy in keV')\n",
    "    plt.ylabel('Relative Scale for Slow and Fast Component')\n",
    "    plt.legend()\n",
    "    plt.show()\n",
    "    \n",
    "    return linfit_slow, linfit_fast\n",
    "        "
   ]
  },
  {
   "cell_type": "code",
   "execution_count": 24,
   "metadata": {
    "collapsed": false
   },
   "outputs": [
    {
     "data": {
      "image/png": "[encoded data removed]",
      "text/plain": [
       "<matplotlib.figure.Figure at 0x10ecf46d0>"
      ]
     },
     "metadata": {},
     "output_type": "display_data"
    },
    {
     "ename": "TypeError",
     "evalue": "'numpy.float64' object is not callable",
     "output_type": "error",
     "traceback": [
      "\u001b[0;31m---------------------------------------------------------------------------\u001b[0m",
      "\u001b[0;31mTypeError\u001b[0m                                 Traceback (most recent call last)",
      "\u001b[0;32m<ipython-input-24-bfaa5af1a165>\u001b[0m in \u001b[0;36m<module>\u001b[0;34m()\u001b[0m\n\u001b[1;32m      5\u001b[0m \u001b[0mx_b\u001b[0m \u001b[0;34m=\u001b[0m \u001b[0mnp\u001b[0m\u001b[0;34m.\u001b[0m\u001b[0masarray\u001b[0m\u001b[0;34m(\u001b[0m\u001b[0mlist\u001b[0m\u001b[0;34m(\u001b[0m\u001b[0mrange\u001b[0m\u001b[0;34m(\u001b[0m\u001b[0;36m1\u001b[0m\u001b[0;34m,\u001b[0m \u001b[0;36m5\u001b[0m\u001b[0;34m,\u001b[0m \u001b[0;36m1\u001b[0m\u001b[0;34m)\u001b[0m\u001b[0;34m)\u001b[0m\u001b[0;34m)\u001b[0m\u001b[0;34m\u001b[0m\u001b[0m\n\u001b[1;32m      6\u001b[0m \u001b[0;34m\u001b[0m\u001b[0m\n\u001b[0;32m----> 7\u001b[0;31m \u001b[0mfast_slow_7700\u001b[0m\u001b[0;34m(\u001b[0m\u001b[0mQF_7700\u001b[0m\u001b[0;34m,\u001b[0m \u001b[0mx_a\u001b[0m\u001b[0;34m,\u001b[0m \u001b[0mx_b\u001b[0m\u001b[0;34m)\u001b[0m\u001b[0;34m\u001b[0m\u001b[0m\n\u001b[0m",
      "\u001b[0;32m<ipython-input-16-d060031c5f1d>\u001b[0m in \u001b[0;36mfast_slow_7700\u001b[0;34m(point, x1, x2)\u001b[0m\n\u001b[1;32m     35\u001b[0m     \u001b[0mSB\u001b[0m \u001b[0;34m=\u001b[0m \u001b[0mnp\u001b[0m\u001b[0;34m.\u001b[0m\u001b[0mpower\u001b[0m\u001b[0;34m(\u001b[0m\u001b[0mpoint\u001b[0m\u001b[0;34m[\u001b[0m\u001b[0;36m0\u001b[0m\u001b[0;34m]\u001b[0m \u001b[0;34m-\u001b[0m \u001b[0mx1\u001b[0m\u001b[0;34m,\u001b[0m \u001b[0;36m2\u001b[0m\u001b[0;34m)\u001b[0m \u001b[0;34m+\u001b[0m \u001b[0mnp\u001b[0m\u001b[0;34m.\u001b[0m\u001b[0mpower\u001b[0m\u001b[0;34m(\u001b[0m\u001b[0mpoint\u001b[0m\u001b[0;34m[\u001b[0m\u001b[0;36m1\u001b[0m\u001b[0;34m]\u001b[0m\u001b[0;34m-\u001b[0m \u001b[0mSBy1\u001b[0m \u001b[0;34m,\u001b[0m\u001b[0;36m2\u001b[0m\u001b[0;34m)\u001b[0m \u001b[0;34m-\u001b[0m        \u001b[0;34m(\u001b[0m\u001b[0;34m(\u001b[0m\u001b[0;36m1\u001b[0m\u001b[0;34m/\u001b[0m\u001b[0;34m(\u001b[0m\u001b[0mnp\u001b[0m\u001b[0;34m.\u001b[0m\u001b[0mpower\u001b[0m\u001b[0;34m(\u001b[0m\u001b[0mx1\u001b[0m \u001b[0;34m-\u001b[0m \u001b[0mx2\u001b[0m\u001b[0;34m,\u001b[0m \u001b[0;36m2\u001b[0m\u001b[0;34m)\u001b[0m \u001b[0;34m+\u001b[0m \u001b[0mnp\u001b[0m\u001b[0;34m.\u001b[0m\u001b[0mpower\u001b[0m\u001b[0;34m(\u001b[0m\u001b[0mSBy1\u001b[0m \u001b[0;34m-\u001b[0m \u001b[0mSBy2\u001b[0m\u001b[0;34m,\u001b[0m \u001b[0;36m2\u001b[0m\u001b[0;34m)\u001b[0m\u001b[0;34m)\u001b[0m\u001b[0;34m)\u001b[0m \u001b[0;34m*\u001b[0m \u001b[0;34m(\u001b[0m\u001b[0mnp\u001b[0m\u001b[0;34m.\u001b[0m\u001b[0mpower\u001b[0m\u001b[0;34m(\u001b[0m\u001b[0;34m(\u001b[0m\u001b[0mpoint\u001b[0m\u001b[0;34m[\u001b[0m\u001b[0;36m0\u001b[0m\u001b[0;34m]\u001b[0m \u001b[0;34m-\u001b[0m \u001b[0mx1\u001b[0m\u001b[0;34m)\u001b[0m \u001b[0;34m*\u001b[0m \u001b[0;34m(\u001b[0m\u001b[0mx2\u001b[0m \u001b[0;34m-\u001b[0m \u001b[0mx1\u001b[0m\u001b[0;34m)\u001b[0m\u001b[0;34m,\u001b[0m \u001b[0;36m2\u001b[0m\u001b[0;34m)\u001b[0m                                                                  \u001b[0;34m+\u001b[0m \u001b[0mnp\u001b[0m\u001b[0;34m.\u001b[0m\u001b[0mpower\u001b[0m\u001b[0;34m(\u001b[0m\u001b[0;34m(\u001b[0m\u001b[0mpoint\u001b[0m\u001b[0;34m[\u001b[0m\u001b[0;36m1\u001b[0m\u001b[0;34m]\u001b[0m \u001b[0;34m-\u001b[0m \u001b[0mSBy1\u001b[0m\u001b[0;34m)\u001b[0m \u001b[0;34m*\u001b[0m \u001b[0;34m(\u001b[0m\u001b[0mSBy2\u001b[0m \u001b[0;34m-\u001b[0m \u001b[0mSBy1\u001b[0m\u001b[0;34m)\u001b[0m\u001b[0;34m,\u001b[0m \u001b[0;36m2\u001b[0m\u001b[0;34m)\u001b[0m\u001b[0;34m)\u001b[0m\u001b[0;34m)\u001b[0m\u001b[0;34m\u001b[0m\u001b[0m\n\u001b[1;32m     36\u001b[0m \u001b[0;34m\u001b[0m\u001b[0m\n\u001b[0;32m---> 37\u001b[0;31m     \u001b[0mbest_point\u001b[0m \u001b[0;34m=\u001b[0m \u001b[0moptimize\u001b[0m\u001b[0;34m(\u001b[0m\u001b[0msum\u001b[0m\u001b[0;34m(\u001b[0m\u001b[0mF\u001b[0m \u001b[0;34m+\u001b[0m \u001b[0mUV\u001b[0m \u001b[0;34m+\u001b[0m \u001b[0mSB\u001b[0m\u001b[0;34m)\u001b[0m\u001b[0;34m,\u001b[0m \u001b[0mpoint\u001b[0m\u001b[0;34m)\u001b[0m\u001b[0;34m\u001b[0m\u001b[0m\n\u001b[0m\u001b[1;32m     38\u001b[0m \u001b[0;34m\u001b[0m\u001b[0m\n\u001b[1;32m     39\u001b[0m     \u001b[0;32mreturn\u001b[0m \u001b[0mbest_point\u001b[0m\u001b[0;34m\u001b[0m\u001b[0m\n",
      "\u001b[0;32m<ipython-input-21-f568b8ab907f>\u001b[0m in \u001b[0;36moptimize\u001b[0;34m(f, point)\u001b[0m\n\u001b[1;32m      2\u001b[0m     '''Takes a function and potential parameters and outputs the minimized \n\u001b[1;32m      3\u001b[0m     values for the guess'''\n\u001b[0;32m----> 4\u001b[0;31m     \u001b[0mfit\u001b[0m \u001b[0;34m=\u001b[0m \u001b[0mminimize\u001b[0m\u001b[0;34m(\u001b[0m\u001b[0mf\u001b[0m\u001b[0;34m,\u001b[0m \u001b[0mpoint\u001b[0m\u001b[0;34m,\u001b[0m \u001b[0mmethod\u001b[0m\u001b[0;34m=\u001b[0m \u001b[0;34m'Nelder-Mead'\u001b[0m\u001b[0;34m)\u001b[0m\u001b[0;34m\u001b[0m\u001b[0m\n\u001b[0m\u001b[1;32m      5\u001b[0m     \u001b[0;32mreturn\u001b[0m \u001b[0mfit\u001b[0m\u001b[0;34m\u001b[0m\u001b[0m\n",
      "\u001b[0;32m/Users/arielhasse/anaconda2/lib/python2.7/site-packages/scipy/optimize/_minimize.pyc\u001b[0m in \u001b[0;36mminimize\u001b[0;34m(fun, x0, args, method, jac, hess, hessp, bounds, constraints, tol, callback, options)\u001b[0m\n\u001b[1;32m    433\u001b[0m                       callback=callback, **options)\n\u001b[1;32m    434\u001b[0m     \u001b[0;32melif\u001b[0m \u001b[0mmeth\u001b[0m \u001b[0;34m==\u001b[0m \u001b[0;34m'nelder-mead'\u001b[0m\u001b[0;34m:\u001b[0m\u001b[0;34m\u001b[0m\u001b[0m\n\u001b[0;32m--> 435\u001b[0;31m         \u001b[0;32mreturn\u001b[0m \u001b[0m_minimize_neldermead\u001b[0m\u001b[0;34m(\u001b[0m\u001b[0mfun\u001b[0m\u001b[0;34m,\u001b[0m \u001b[0mx0\u001b[0m\u001b[0;34m,\u001b[0m \u001b[0margs\u001b[0m\u001b[0;34m,\u001b[0m \u001b[0mcallback\u001b[0m\u001b[0;34m,\u001b[0m \u001b[0;34m**\u001b[0m\u001b[0moptions\u001b[0m\u001b[0;34m)\u001b[0m\u001b[0;34m\u001b[0m\u001b[0m\n\u001b[0m\u001b[1;32m    436\u001b[0m     \u001b[0;32melif\u001b[0m \u001b[0mmeth\u001b[0m \u001b[0;34m==\u001b[0m \u001b[0;34m'powell'\u001b[0m\u001b[0;34m:\u001b[0m\u001b[0;34m\u001b[0m\u001b[0m\n\u001b[1;32m    437\u001b[0m         \u001b[0;32mreturn\u001b[0m \u001b[0m_minimize_powell\u001b[0m\u001b[0;34m(\u001b[0m\u001b[0mfun\u001b[0m\u001b[0;34m,\u001b[0m \u001b[0mx0\u001b[0m\u001b[0;34m,\u001b[0m \u001b[0margs\u001b[0m\u001b[0;34m,\u001b[0m \u001b[0mcallback\u001b[0m\u001b[0;34m,\u001b[0m \u001b[0;34m**\u001b[0m\u001b[0moptions\u001b[0m\u001b[0;34m)\u001b[0m\u001b[0;34m\u001b[0m\u001b[0m\n",
      "\u001b[0;32m/Users/arielhasse/anaconda2/lib/python2.7/site-packages/scipy/optimize/optimize.pyc\u001b[0m in \u001b[0;36m_minimize_neldermead\u001b[0;34m(func, x0, args, callback, xtol, ftol, maxiter, maxfev, disp, return_all, **unknown_options)\u001b[0m\n\u001b[1;32m    437\u001b[0m     \u001b[0;32mif\u001b[0m \u001b[0mretall\u001b[0m\u001b[0;34m:\u001b[0m\u001b[0;34m\u001b[0m\u001b[0m\n\u001b[1;32m    438\u001b[0m         \u001b[0mallvecs\u001b[0m \u001b[0;34m=\u001b[0m \u001b[0;34m[\u001b[0m\u001b[0msim\u001b[0m\u001b[0;34m[\u001b[0m\u001b[0;36m0\u001b[0m\u001b[0;34m]\u001b[0m\u001b[0;34m]\u001b[0m\u001b[0;34m\u001b[0m\u001b[0m\n\u001b[0;32m--> 439\u001b[0;31m     \u001b[0mfsim\u001b[0m\u001b[0;34m[\u001b[0m\u001b[0;36m0\u001b[0m\u001b[0;34m]\u001b[0m \u001b[0;34m=\u001b[0m \u001b[0mfunc\u001b[0m\u001b[0;34m(\u001b[0m\u001b[0mx0\u001b[0m\u001b[0;34m)\u001b[0m\u001b[0;34m\u001b[0m\u001b[0m\n\u001b[0m\u001b[1;32m    440\u001b[0m     \u001b[0mnonzdelt\u001b[0m \u001b[0;34m=\u001b[0m \u001b[0;36m0.05\u001b[0m\u001b[0;34m\u001b[0m\u001b[0m\n\u001b[1;32m    441\u001b[0m     \u001b[0mzdelt\u001b[0m \u001b[0;34m=\u001b[0m \u001b[0;36m0.00025\u001b[0m\u001b[0;34m\u001b[0m\u001b[0m\n",
      "\u001b[0;32m/Users/arielhasse/anaconda2/lib/python2.7/site-packages/scipy/optimize/optimize.pyc\u001b[0m in \u001b[0;36mfunction_wrapper\u001b[0;34m(*wrapper_args)\u001b[0m\n\u001b[1;32m    287\u001b[0m     \u001b[0;32mdef\u001b[0m \u001b[0mfunction_wrapper\u001b[0m\u001b[0;34m(\u001b[0m\u001b[0;34m*\u001b[0m\u001b[0mwrapper_args\u001b[0m\u001b[0;34m)\u001b[0m\u001b[0;34m:\u001b[0m\u001b[0;34m\u001b[0m\u001b[0m\n\u001b[1;32m    288\u001b[0m         \u001b[0mncalls\u001b[0m\u001b[0;34m[\u001b[0m\u001b[0;36m0\u001b[0m\u001b[0;34m]\u001b[0m \u001b[0;34m+=\u001b[0m \u001b[0;36m1\u001b[0m\u001b[0;34m\u001b[0m\u001b[0m\n\u001b[0;32m--> 289\u001b[0;31m         \u001b[0;32mreturn\u001b[0m \u001b[0mfunction\u001b[0m\u001b[0;34m(\u001b[0m\u001b[0;34m*\u001b[0m\u001b[0;34m(\u001b[0m\u001b[0mwrapper_args\u001b[0m \u001b[0;34m+\u001b[0m \u001b[0margs\u001b[0m\u001b[0;34m)\u001b[0m\u001b[0;34m)\u001b[0m\u001b[0;34m\u001b[0m\u001b[0m\n\u001b[0m\u001b[1;32m    290\u001b[0m \u001b[0;34m\u001b[0m\u001b[0m\n\u001b[1;32m    291\u001b[0m     \u001b[0;32mreturn\u001b[0m \u001b[0mncalls\u001b[0m\u001b[0;34m,\u001b[0m \u001b[0mfunction_wrapper\u001b[0m\u001b[0;34m\u001b[0m\u001b[0m\n",
      "\u001b[0;31mTypeError\u001b[0m: 'numpy.float64' object is not callable"
     ]
    }
   ],
   "source": [
    "# Returns the closest point of intersection and displays the fast and slow quenching factor lines at 7700 keV. \n",
    "\n",
    "fast_slow_7700()\n",
    "\n",
    "x1 = np.asarray(list(range(0, 4, 1)))\n",
    "x2 = np.asarray(list(range(1, 5, 1)))\n",
    "\n",
    "Fy1 = np.asarray(y_values(1/(ratio_filter[0]) * (-ratio_filter[1]), 1/(ratio_filter[0]) * (q_filter[3]), x1))\n",
    "Fy2 = np.asarray(y_values(1/(ratio_filter[0]) * (-ratio_filter[1]), 1/(ratio_filter[0]) * (q_filter[3]), x2))\n",
    "\n",
    "UVy1 = np.asarray(y_values(1/(ratio_2UV[0]) * (-ratio_2UV[1]), 1/(ratio_2UV[0]) * (q_2UV[3]), x1))\n",
    "UVy2 = np.asarray(y_values(1/(ratio_2UV[0]) * (-ratio_2UV[1]), 1/(ratio_2UV[0]) * (q_2UV[3]), x2))\n",
    "\n",
    "SBy1 = np.asarray(y_values(1/(ratio_SB[0]) * (-ratio_SB[1]), 1/(ratio_SB[0]) * (q_SB[3]), x1))\n",
    "SBy2 = np.asarray(y_values(1/(ratio_SB[0]) * (-ratio_SB[1]), 1/(ratio_SB[0]) * (q_SB[3]), x2))\n",
    "\n",
    "QF_7700 = [2, 10]\n",
    "\n",
    "optimize(least_squares_7700, QF_7700)"
   ]
  },
  {
   "cell_type": "code",
   "execution_count": null,
   "metadata": {
    "collapsed": false
   },
   "outputs": [],
   "source": [
    "# Returns the closest point of intersection and displays the fast and slow quenching factor lines at 6000 keV.\n",
    "\n",
    "fast_slow_6000()\n",
    "\n",
    "x1 = np.asarray(list(range(0, 4, 1)))\n",
    "x2 = np.asarray(list(range(1, 5, 1)))\n",
    "\n",
    "Fy1 = np.asarray(y_values(1/(ratio_filter[0]) * (-ratio_filter[1]), 1/(ratio_filter[0]) * (q_filter[2]), x1))\n",
    "Fy2 = np.asarray(y_values(1/(ratio_filter[0]) * (-ratio_filter[1]), 1/(ratio_filter[0]) * (q_filter[2]), x2))\n",
    "\n",
    "UVy1 = np.asarray(y_values(1/(ratio_2UV[0]) * (-ratio_2UV[1]), 1/(ratio_2UV[0]) * (q_2UV[2]), x1))\n",
    "UVy2 = np.asarray(y_values(1/(ratio_2UV[0]) * (-ratio_2UV[1]), 1/(ratio_2UV[0]) * (q_2UV[2]), x2))\n",
    "\n",
    "SBy1 = np.asarray(y_values(1/(ratio_SB[0]) * (-ratio_SB[1]), 1/(ratio_SB[0]) * (q_SB[2]), x1))\n",
    "SBy2 = np.asarray(y_values(1/(ratio_SB[0]) * (-ratio_SB[1]), 1/(ratio_SB[0]) * (q_SB[2]), x2))\n",
    "\n",
    "QF_6000 = [2, 10]\n",
    "\n",
    "optimize(least_squares_6000, QF_6000)"
   ]
  },
  {
   "cell_type": "code",
   "execution_count": null,
   "metadata": {
    "collapsed": false
   },
   "outputs": [],
   "source": [
    "# Returns the closest point of intersection and displays the fast and slow quenching factor lines at 5500 keV.\n",
    "\n",
    "fast_slow_5500()\n",
    "\n",
    "x1 = np.asarray(list(range(0, 4, 1)))\n",
    "x2 = np.asarray(list(range(1, 5, 1)))\n",
    "\n",
    "Fy1 = np.asarray(y_values(1/(ratio_filter[0]) * (-ratio_filter[1]), 1/(ratio_filter[0]) * (q_filter[1]), x1))\n",
    "Fy2 = np.asarray(y_values(1/(ratio_filter[0]) * (-ratio_filter[1]), 1/(ratio_filter[0]) * (q_filter[1]), x2))\n",
    "\n",
    "UVy1 = np.asarray(y_values(1/(ratio_2UV[0]) * (-ratio_2UV[1]), 1/(ratio_2UV[0]) * (q_2UV[1]), x1))\n",
    "UVy2 = np.asarray(y_values(1/(ratio_2UV[0]) * (-ratio_2UV[1]), 1/(ratio_2UV[0]) * (q_2UV[1]), x2))\n",
    "\n",
    "SBy1 = np.asarray(y_values(1/(ratio_SB[0]) * (-ratio_SB[1]), 1/(ratio_SB[0]) * (q_SB[0]), x1))\n",
    "SBy2 = np.asarray(y_values(1/(ratio_SB[0]) * (-ratio_SB[1]), 1/(ratio_SB[0]) * (q_SB[0]), x2))\n",
    "\n",
    "QF_5500 = [2, 10]\n",
    "\n",
    "optimize(least_squares_5500, QF_5500)"
   ]
  },
  {
   "cell_type": "code",
   "execution_count": null,
   "metadata": {
    "collapsed": false
   },
   "outputs": [],
   "source": [
    "# Returns the closest point of intersection and displays the fast and slow quenching factor lines at 4800 keV.\n",
    "\n",
    "fast_slow_4800()\n",
    "\n",
    "x1 = np.asarray(list(range(0, 4, 1)))\n",
    "x2 = np.asarray(list(range(1, 5, 1)))\n",
    "\n",
    "Fy1 = np.asarray(y_values(1/(ratio_filter[0]) * (-ratio_filter[1]), 1/(ratio_filter[0]) * (q_filter[0]), x1))\n",
    "Fy2 = np.asarray(y_values(1/(ratio_filter[0]) * (-ratio_filter[1]), 1/(ratio_filter[0]) * (q_filter[0]), x2))\n",
    "\n",
    "UVy1 = np.asarray(y_values(1/(ratio_2UV[0]) * (-ratio_2UV[1]), 1/(ratio_2UV[0]) * (q_2UV[0]), x1))\n",
    "UVy2 = np.asarray(y_values(1/(ratio_2UV[0]) * (-ratio_2UV[1]), 1/(ratio_2UV[0]) * (q_2UV[0]), x2))\n",
    "\n",
    "SBy1 = np.asarray(y_values(1/(ratio_SB[0]) * (-ratio_SB[1]), 1/(ratio_SB[0]) * (q_SB[0]), x1))\n",
    "SBy2 = np.asarray(y_values(1/(ratio_SB[0]) * (-ratio_SB[1]), 1/(ratio_SB[0]) * (q_SB[0]), x2))\n",
    "\n",
    "QF_4800 = [2, 10]\n",
    "\n",
    "optimize(least_squares_4800, QF_4800)"
   ]
  },
  {
   "cell_type": "code",
   "execution_count": null,
   "metadata": {
    "collapsed": true
   },
   "outputs": [],
   "source": [
    "slow = [fast_slow_4800()[0], fast_slow_5500()[0], fast_slow_6000()[0], fast_slow_7700()[0]]\n",
    "fast = [fast_slow_4800()[1], fast_slow_5500()[1], fast_slow_6000()[1], fast_slow_7700()[1]]\n",
    "energy = [4800, 5500, 6000, 7700]\n",
    "\n",
    "x_a = np.asarray(list(range(0, 4, 1)))\n",
    "x_b = np.asarray(list(range(1, 5, 1)))\n"
   ]
  }
 ],
 "metadata": {
  "anaconda-cloud": {},
  "kernelspec": {
   "display_name": "Python [Root]",
   "language": "python",
   "name": "Python [Root]"
  },
  "language_info": {
   "codemirror_mode": {
    "name": "ipython",
    "version": 2
   },
   "file_extension": ".py",
   "mimetype": "text/x-python",
   "name": "python",
   "nbconvert_exporter": "python",
   "pygments_lexer": "ipython2",
   "version": "2.7.12"
  }
 },
 "nbformat": 4,
 "nbformat_minor": 0
}
