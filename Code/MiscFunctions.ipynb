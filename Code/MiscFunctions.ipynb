{
 "cells": [
  {
   "cell_type": "code",
   "execution_count": 1,
   "metadata": {
    "collapsed": true
   },
   "outputs": [],
   "source": [
    "# Ariel Hasse, Professor David Hitlin, SURF 2016\n",
    "# This program contains functions that were created during my SURF process, but not used for the final analysis. \n",
    "# They are not all fully commented or fully functional \n",
    "\n",
    "%matplotlib inline\n",
    "import numpy as np\n",
    "import matplotlib.pyplot as plt\n",
    "from scipy.optimize import minimize \n",
    "from scipy import stats\n",
    "from scipy.optimize import curve_fit\n",
    "import scipy.integrate as integrate\n",
    "from scipy.interpolate import interp1d\n",
    "from scipy import interp "
   ]
  },
  {
   "cell_type": "code",
   "execution_count": 2,
   "metadata": {
    "collapsed": true
   },
   "outputs": [],
   "source": [
    "def alldata2(file):\n",
    "    '''Takes a text file and categorizes the data into two arrays based off of\n",
    "    columns using the numpy module. Outputs two arrays, one for x and one for y. '''\n",
    "    \n",
    "    # Currently outputs incorrect lists\n",
    "    data = np.genfromtxt(file)\n",
    "    x = list(data[0])\n",
    "    y = list(data[1])\n",
    "    return x, y"
   ]
  },
  {
   "cell_type": "code",
   "execution_count": 1,
   "metadata": {
    "collapsed": true
   },
   "outputs": [],
   "source": [
    "def bestfit(x, y):\n",
    "    ''' This function takes two lists and finds the line of bestfit'''\n",
    "    \n",
    "    # not sure if plotting correctly\n",
    "    best = np.polyfit(x, y, 2, full = True)\n",
    "    plt.plot(x, np.poly1d(np.polyfit(x, y, 2))(x))\n",
    "    plt.show()\n",
    "    return best "
   ]
  },
  {
   "cell_type": "code",
   "execution_count": 2,
   "metadata": {
    "collapsed": true
   },
   "outputs": [],
   "source": [
    "def poly(guess):\n",
    "    '''This is a polynomial chi squared sum. The argument requires a list of\n",
    "    three variables and x and y lists must be defined outside of the function\n",
    "    in the porgram'''\n",
    "    arx = np.asarray(x1)\n",
    "    ary = np.asarray(y1)\n",
    "    return sum(np.power(guess[0]*np.power(arx, 2) + guess[1]*arx + guess[2] - ary, 2))"
   ]
  },
  {
   "cell_type": "code",
   "execution_count": 3,
   "metadata": {
    "collapsed": true
   },
   "outputs": [],
   "source": [
    "def linefitpoly(opt, x, title, xname, yname, legend):\n",
    "    ''' This plots the line of best fit from the optimize function for a \n",
    "    ploynomial'''\n",
    "    ans = list(opt.x)\n",
    "    ct = 0\n",
    "    y = []\n",
    "    for i in x:\n",
    "        y.append(ans[0]*np.power(x[ct], 2) + ans[1]*x[ct] + ans[2])\n",
    "        ct += 1\n",
    "    plt.plot(x, y, label = legend)\n",
    "    plt.title(title)\n",
    "    plt.xlabel(xname)\n",
    "    plt.ylabel(yname)\n",
    "    plt.legend()\n",
    "    plt.show()"
   ]
  },
  {
   "cell_type": "code",
   "execution_count": null,
   "metadata": {
    "collapsed": true
   },
   "outputs": [],
   "source": []
  }
 ],
 "metadata": {
  "anaconda-cloud": {},
  "kernelspec": {
   "display_name": "Python [Root]",
   "language": "python",
   "name": "Python [Root]"
  },
  "language_info": {
   "codemirror_mode": {
    "name": "ipython",
    "version": 2
   },
   "file_extension": ".py",
   "mimetype": "text/x-python",
   "name": "python",
   "nbconvert_exporter": "python",
   "pygments_lexer": "ipython2",
   "version": "2.7.12"
  }
 },
 "nbformat": 4,
 "nbformat_minor": 0
}
